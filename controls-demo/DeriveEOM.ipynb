{
 "cells": [
  {
   "cell_type": "code",
   "execution_count": 86,
   "source": [
    "import sympy as sym\n",
    "import numpy as np"
   ],
   "outputs": [],
   "metadata": {}
  },
  {
   "cell_type": "markdown",
   "source": [
    "## Dynamic model"
   ],
   "metadata": {}
  },
  {
   "cell_type": "markdown",
   "source": [
    "Specify the physical parameters:"
   ],
   "metadata": {}
  },
  {
   "cell_type": "code",
   "execution_count": 87,
   "source": [
    "mb = 6.\n",
    "Jxb = 10.\n",
    "Jyb = 10.\n",
    "Jzb = 16.\n",
    "\n",
    "mw = 1.\n",
    "Jxw = 0.075\n",
    "Jyw = 0.075\n",
    "Jzw = 0.125\n",
    "lw = 1.1"
   ],
   "outputs": [],
   "metadata": {}
  },
  {
   "cell_type": "markdown",
   "source": [
    "Derive the equations of motion:"
   ],
   "metadata": {}
  },
  {
   "cell_type": "code",
   "execution_count": 88,
   "source": [
    "# roll, pitch, yaw angles\n",
    "phi, theta, psi = sym.symbols('phi, theta, psi')\n",
    "\n",
    "# angular velocities\n",
    "w_x, w_y, w_z = sym.symbols('w_x, w_y, w_z')\n",
    "\n",
    "# torques\n",
    "tau_1, tau_2, tau_3, tau_4 = sym.symbols('tau_1, tau_2, tau_3, tau_4')\n",
    "\n",
    "# resultant torques\n",
    "lt = sym.nsimplify(lw) * sym.sqrt(2) / 2\n",
    "T1 = - tau_1 * sym.Matrix([[lt], [0], [lt]])\n",
    "T2 = - tau_2 * sym.Matrix([[-lt], [0], [lt]])\n",
    "T3 = - tau_3 * sym.Matrix([[0], [lt], [lt]])\n",
    "T4 = - tau_4 * sym.Matrix([[0], [-lt], [lt]])\n",
    "T = T1 + T2 + T3 + T4\n",
    "\n",
    "# parameters\n",
    "Jx = sym.nsimplify(Jxb + 4 * mw * lw**2)\n",
    "Jy = sym.nsimplify(Jyb + 4 * mw * lw**2)\n",
    "Jz = sym.nsimplify(Jzb + 4 * mw * lw**2)\n",
    "\n",
    "# rotation matrices\n",
    "Rx = sym.Matrix([[1, 0, 0], [0, sym.cos(phi), -sym.sin(phi)], [0, sym.sin(phi), sym.cos(phi)]])\n",
    "Ry = sym.Matrix([[sym.cos(theta), 0, sym.sin(theta)], [0, 1, 0], [-sym.sin(theta), 0, sym.cos(theta)]])\n",
    "Rz = sym.Matrix([[sym.cos(psi), -sym.sin(psi), 0], [sym.sin(psi), sym.cos(psi), 0], [0, 0, 1]])\n",
    "\n",
    "# angular velocity to angular rates\n",
    "ex = sym.Matrix([[1], [0], [0]])\n",
    "ey = sym.Matrix([[0], [1], [0]])\n",
    "ez = sym.Matrix([[0], [0], [1]])\n",
    "M = sym.simplify(sym.Matrix.hstack((Ry * Rz).T * ex, Rz.T * ey, ez).inv(), full=True)\n",
    "\n",
    "# euler's equations\n",
    "euler = sym.Matrix([[(1 / Jx) * (T[0] + (Jy - Jz) * w_y * w_z)],\n",
    "                   [(1 / Jy) * (T[1] + (Jz - Jx) * w_z * w_x)],\n",
    "                   [(1 / Jz) * (T[2] + (Jx - Jy) * w_x * w_y)]])\n",
    "\n",
    "# equations of motion\n",
    "f = sym.simplify(sym.Matrix.vstack(M * sym.Matrix([[w_x], [w_y], [w_z]]), euler), full=True)"
   ],
   "outputs": [],
   "metadata": {}
  },
  {
   "cell_type": "markdown",
   "source": [
    "The equations of motion have this form:\n",
    "\n",
    "$$\\begin{bmatrix} \\dot{\\phi} \\\\ \\dot{\\theta} \\\\ \\dot{\\psi} \\\\ \\dot{w_x} \\\\ \\dot{w_y} \\\\ \\dot{w_z} \\end{bmatrix} = f\\left(\\phi, \\theta, \\psi, w_x, w_y, w_z, \\tau_1, \\tau_2, \\tau_3, \\tau_4\\right)$$\n",
    "\n",
    "Here is the function $f$:"
   ],
   "metadata": {}
  },
  {
   "cell_type": "code",
   "execution_count": 89,
   "source": [
    "f"
   ],
   "outputs": [
    {
     "output_type": "execute_result",
     "data": {
      "text/plain": [
       "Matrix([\n",
       "[                        (w_x*cos(psi) - w_y*sin(psi))/cos(theta)],\n",
       "[                                     w_x*sin(psi) + w_y*cos(psi)],\n",
       "[        -w_x*cos(psi)*tan(theta) + w_y*sin(psi)*tan(theta) + w_z],\n",
       "[-55*sqrt(2)*tau_1/1484 + 55*sqrt(2)*tau_2/1484 - 150*w_y*w_z/371],\n",
       "[-55*sqrt(2)*tau_3/1484 + 55*sqrt(2)*tau_4/1484 + 150*w_x*w_z/371],\n",
       "[                -55*sqrt(2)*(tau_1 + tau_2 + tau_3 + tau_4)/2084]])"
      ],
      "text/latex": [
       "$\\displaystyle \\left[\\begin{matrix}\\frac{w_{x} \\cos{\\left(\\psi \\right)} - w_{y} \\sin{\\left(\\psi \\right)}}{\\cos{\\left(\\theta \\right)}}\\\\w_{x} \\sin{\\left(\\psi \\right)} + w_{y} \\cos{\\left(\\psi \\right)}\\\\- w_{x} \\cos{\\left(\\psi \\right)} \\tan{\\left(\\theta \\right)} + w_{y} \\sin{\\left(\\psi \\right)} \\tan{\\left(\\theta \\right)} + w_{z}\\\\- \\frac{55 \\sqrt{2} \\tau_{1}}{1484} + \\frac{55 \\sqrt{2} \\tau_{2}}{1484} - \\frac{150 w_{y} w_{z}}{371}\\\\- \\frac{55 \\sqrt{2} \\tau_{3}}{1484} + \\frac{55 \\sqrt{2} \\tau_{4}}{1484} + \\frac{150 w_{x} w_{z}}{371}\\\\- \\frac{55 \\sqrt{2} \\left(\\tau_{1} + \\tau_{2} + \\tau_{3} + \\tau_{4}\\right)}{2084}\\end{matrix}\\right]$"
      ]
     },
     "metadata": {},
     "execution_count": 89
    }
   ],
   "metadata": {}
  },
  {
   "cell_type": "markdown",
   "source": [
    "# Making \"f\" an excutable function\n",
    "## Lambdify is setup in a way that values can be easily substituted in for the variables"
   ],
   "metadata": {}
  },
  {
   "cell_type": "code",
   "execution_count": 90,
   "source": [
    "f_num = sym.lambdify((phi,theta,psi,w_x,w_y,w_z,tau_1,tau_2,tau_3,tau_4),f)\n"
   ],
   "outputs": [],
   "metadata": {}
  },
  {
   "cell_type": "markdown",
   "source": [
    "# Defining a set of Equilibrium Values for the states so that f() == 0\n",
    "## These values are specifically chosen so that the control system may converge to those desired values. And in this case, we want the spacecraft to maintain its attitude given external disturbances. "
   ],
   "metadata": {}
  },
  {
   "cell_type": "code",
   "execution_count": 91,
   "source": [
    "phi_e = 0\n",
    "theta_e = 0\n",
    "psi_e = 0\n",
    "wx_e = 0\n",
    "wy_e = 0\n",
    "wz_e = 0\n",
    "tau1_e = 0\n",
    "tau2_e = 0\n",
    "tau3_e = 0\n",
    "tau4_e = 0"
   ],
   "outputs": [],
   "metadata": {}
  },
  {
   "cell_type": "markdown",
   "source": [
    "## 1) Making a function that subsitutes equilibrium values into the equations of motion \n",
    "## 2) Verify the equilibrium values make f() == 0\n",
    "## 3) Print out the f matrix and make sure it returns a 6 by 1 column matrix"
   ],
   "metadata": {}
  },
  {
   "cell_type": "code",
   "execution_count": 92,
   "source": [
    "feq = f_num(phi_e,theta_e,psi_e,wx_e,wy_e,wz_e,tau1_e,tau2_e,tau3_e,tau4_e)"
   ],
   "outputs": [],
   "metadata": {}
  },
  {
   "cell_type": "markdown",
   "source": [
    "# Linerizing the equations of motion \n",
    "## 1) $\\dot{x}$ = Ax + Bu. Make sure that when the jacobian function is applied, it needs to be applied to the right function f. \"f\" is a 6 by 1 column matirx, it is good. But \"f_num\" is a function, so you can't use jacobian for it.\n",
    "\n",
    "\n",
    "## 2) Only the the following 6 states will be in the A matrix since the other four, tau_1, tau_2, tau_3, and tau_4 are the inputs u. So it will be in the B matrix\n"
   ],
   "metadata": {}
  },
  {
   "cell_type": "code",
   "execution_count": 93,
   "source": [
    "states = [phi,theta, psi, w_x, w_y, w_z]\n",
    "A_sym = f.jacobian(states)\n",
    "\n",
    "inputs = [tau_1, tau_2, tau_3, tau_4]\n",
    "B_sym = f.jacobian(inputs)\n",
    "\n"
   ],
   "outputs": [],
   "metadata": {}
  },
  {
   "cell_type": "markdown",
   "source": [
    "## We need to sub in the equilibrium values into the symbolic A and B matrices"
   ],
   "metadata": {}
  },
  {
   "cell_type": "code",
   "execution_count": 94,
   "source": [
    "A_num = sym.lambdify(states,A_sym)\n",
    "B_num = sym.lambdify(inputs,B_sym)\n",
    "\n",
    "\n",
    "A_eq = A_num(phi_e,theta_e,psi_e,wx_e,wy_e,wz_e)\n",
    "B_eq = B_num(tau1_e, tau2_e, tau3_e, tau4_e)"
   ],
   "outputs": [],
   "metadata": {}
  },
  {
   "cell_type": "markdown",
   "source": [
    "# Checking for controllability\n",
    "## $\\dot{x}$ = Ax + Bu where u = -kx\n",
    "\n",
    "## First, we create the controllability matrix, as shown below"
   ],
   "metadata": {}
  },
  {
   "cell_type": "code",
   "execution_count": 95,
   "source": [
    "\n",
    "#* Number of states\n",
    "n = len(B_eq)\n",
    "\n",
    "#* Initialize the Controllability Matrix\n",
    "W = B_eq\n",
    "\n",
    "#* Create the Controllability Matrix\n",
    "for i in range(1,n):\n",
    "    new_mat = np.linalg.matrix_power(A_eq, i) @ B_eq\n",
    "    W = np.block([W,new_mat])\n",
    "\n",
    "#* Make sure that the rank of the matrix is equal to the number of states\n",
    "if (np.linalg.matrix_rank(W) == n):\n",
    "    print(\"FULL RANK\")\n",
    "else:\n",
    "    print(\"RANK DEFICIENT\") "
   ],
   "outputs": [
    {
     "output_type": "stream",
     "name": "stdout",
     "text": [
      "FULL RANK\n"
     ]
    }
   ],
   "metadata": {}
  },
  {
   "cell_type": "markdown",
   "source": [
    "# LQR Design (Linear Quadratic Regulator)\\\n",
    "## Q and R matrices need to be implemented where Q can be seen as a \"penalty\" matrix that tells us how bad the penalty is if the states are not at where we want them to be. In other words, by looking at the diagonals of this matrix, we could assign values cooresponding to the different states we are interested in. We start with an identity matrix I, with 1s in the diagonal. If we are interested in making the state \"theta\" or \"theta dot\" go to our desired state faster, we could put 10 or 100 in those slots. \n"
   ],
   "metadata": {}
  },
  {
   "cell_type": "markdown",
   "source": [
    "## Sensor model"
   ],
   "metadata": {}
  },
  {
   "cell_type": "markdown",
   "source": [
    "Symbolic variables for right ascension $\\alpha$ and declination $\\delta$ of each star:"
   ],
   "metadata": {}
  },
  {
   "cell_type": "code",
   "execution_count": 96,
   "source": [
    "alpha, delta = sym.symbols('alpha, delta')"
   ],
   "outputs": [],
   "metadata": {}
  },
  {
   "cell_type": "markdown",
   "source": [
    "Specify the physical parameters:"
   ],
   "metadata": {}
  },
  {
   "cell_type": "code",
   "execution_count": 97,
   "source": [
    "# Scope radius\n",
    "r = 0.8 / 2.1"
   ],
   "outputs": [],
   "metadata": {}
  },
  {
   "cell_type": "markdown",
   "source": [
    "Derive the sensor model:"
   ],
   "metadata": {}
  },
  {
   "cell_type": "code",
   "execution_count": 98,
   "source": [
    "# Position of star in space frame\n",
    "p_star_in_space = sym.Matrix([[sym.cos(alpha) * sym.cos(delta)],\n",
    "                              [sym.sin(alpha) * sym.cos(delta)],\n",
    "                              [sym.sin(delta)]])\n",
    "\n",
    "# Orientation of body frame in space frame\n",
    "R_body_in_space = Rx * Ry * Rz\n",
    "\n",
    "# Position of star in body frame (assuming origin of body and space frames are the same)\n",
    "p_star_in_body = R_body_in_space.T * p_star_in_space\n",
    "\n",
    "# Position of star in image frame\n",
    "p_star_in_image = (1 / sym.nsimplify(r)) * sym.Matrix([[p_star_in_body[1] / p_star_in_body[0]],\n",
    "                                                       [p_star_in_body[2] / p_star_in_body[0]]])\n",
    "\n",
    "# Sensor model for each star\n",
    "g = sym.simplify(p_star_in_image, full=True)"
   ],
   "outputs": [],
   "metadata": {}
  },
  {
   "cell_type": "markdown",
   "source": [
    "The sensor model has this form for each star:\n",
    "\n",
    "$$\\zeta = g(\\phi, \\theta, \\psi, \\alpha, \\delta)$$\n",
    "\n",
    "Here is the function $g$:"
   ],
   "metadata": {}
  },
  {
   "cell_type": "code",
   "execution_count": 99,
   "source": [
    "g"
   ],
   "outputs": [
    {
     "output_type": "execute_result",
     "data": {
      "text/plain": [
       "Matrix([\n",
       "[21*((sin(phi)*cos(psi) + sin(psi)*sin(theta)*cos(phi))*sin(delta) - (sin(phi)*sin(psi)*sin(theta) - cos(phi)*cos(psi))*sin(alpha)*cos(delta) - sin(psi)*cos(alpha)*cos(delta)*cos(theta))/(8*((sin(phi)*sin(psi) - sin(theta)*cos(phi)*cos(psi))*sin(delta) + (sin(phi)*sin(theta)*cos(psi) + sin(psi)*cos(phi))*sin(alpha)*cos(delta) + cos(alpha)*cos(delta)*cos(psi)*cos(theta)))],\n",
       "[                                                                      21*(-sin(alpha)*sin(phi)*cos(delta)*cos(theta) + sin(delta)*cos(phi)*cos(theta) + sin(theta)*cos(alpha)*cos(delta))/(8*((sin(phi)*sin(psi) - sin(theta)*cos(phi)*cos(psi))*sin(delta) + (sin(phi)*sin(theta)*cos(psi) + sin(psi)*cos(phi))*sin(alpha)*cos(delta) + cos(alpha)*cos(delta)*cos(psi)*cos(theta)))]])"
      ],
      "text/latex": [
       "$\\displaystyle \\left[\\begin{matrix}\\frac{21 \\left(\\left(\\sin{\\left(\\phi \\right)} \\cos{\\left(\\psi \\right)} + \\sin{\\left(\\psi \\right)} \\sin{\\left(\\theta \\right)} \\cos{\\left(\\phi \\right)}\\right) \\sin{\\left(\\delta \\right)} - \\left(\\sin{\\left(\\phi \\right)} \\sin{\\left(\\psi \\right)} \\sin{\\left(\\theta \\right)} - \\cos{\\left(\\phi \\right)} \\cos{\\left(\\psi \\right)}\\right) \\sin{\\left(\\alpha \\right)} \\cos{\\left(\\delta \\right)} - \\sin{\\left(\\psi \\right)} \\cos{\\left(\\alpha \\right)} \\cos{\\left(\\delta \\right)} \\cos{\\left(\\theta \\right)}\\right)}{8 \\left(\\left(\\sin{\\left(\\phi \\right)} \\sin{\\left(\\psi \\right)} - \\sin{\\left(\\theta \\right)} \\cos{\\left(\\phi \\right)} \\cos{\\left(\\psi \\right)}\\right) \\sin{\\left(\\delta \\right)} + \\left(\\sin{\\left(\\phi \\right)} \\sin{\\left(\\theta \\right)} \\cos{\\left(\\psi \\right)} + \\sin{\\left(\\psi \\right)} \\cos{\\left(\\phi \\right)}\\right) \\sin{\\left(\\alpha \\right)} \\cos{\\left(\\delta \\right)} + \\cos{\\left(\\alpha \\right)} \\cos{\\left(\\delta \\right)} \\cos{\\left(\\psi \\right)} \\cos{\\left(\\theta \\right)}\\right)}\\\\\\frac{21 \\left(- \\sin{\\left(\\alpha \\right)} \\sin{\\left(\\phi \\right)} \\cos{\\left(\\delta \\right)} \\cos{\\left(\\theta \\right)} + \\sin{\\left(\\delta \\right)} \\cos{\\left(\\phi \\right)} \\cos{\\left(\\theta \\right)} + \\sin{\\left(\\theta \\right)} \\cos{\\left(\\alpha \\right)} \\cos{\\left(\\delta \\right)}\\right)}{8 \\left(\\left(\\sin{\\left(\\phi \\right)} \\sin{\\left(\\psi \\right)} - \\sin{\\left(\\theta \\right)} \\cos{\\left(\\phi \\right)} \\cos{\\left(\\psi \\right)}\\right) \\sin{\\left(\\delta \\right)} + \\left(\\sin{\\left(\\phi \\right)} \\sin{\\left(\\theta \\right)} \\cos{\\left(\\psi \\right)} + \\sin{\\left(\\psi \\right)} \\cos{\\left(\\phi \\right)}\\right) \\sin{\\left(\\alpha \\right)} \\cos{\\left(\\delta \\right)} + \\cos{\\left(\\alpha \\right)} \\cos{\\left(\\delta \\right)} \\cos{\\left(\\psi \\right)} \\cos{\\left(\\theta \\right)}\\right)}\\end{matrix}\\right]$"
      ]
     },
     "metadata": {},
     "execution_count": 99
    }
   ],
   "metadata": {}
  },
  {
   "cell_type": "code",
   "execution_count": null,
   "source": [],
   "outputs": [],
   "metadata": {}
  }
 ],
 "metadata": {
  "kernelspec": {
   "name": "python3",
   "display_name": "Python 3.9.6 64-bit ('learning_controls': conda)"
  },
  "language_info": {
   "codemirror_mode": {
    "name": "ipython",
    "version": 3
   },
   "file_extension": ".py",
   "mimetype": "text/x-python",
   "name": "python",
   "nbconvert_exporter": "python",
   "pygments_lexer": "ipython3",
   "version": "3.9.6"
  },
  "interpreter": {
   "hash": "be56001d875a7b457042aa318c1dc0daefb675aac1062efe0a50804b4305193a"
  }
 },
 "nbformat": 4,
 "nbformat_minor": 5
}