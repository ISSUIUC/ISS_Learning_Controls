{
 "cells": [
  {
   "cell_type": "markdown",
   "source": [
    "## States:\n",
    "The states of a system are variables that can be used to describe the behavior of a system.\n",
    "For a rocket, the states can include position variables (x,y,z), orientation variables (yaw,pitch,roll), translational velocities and accelerations, and angular velocities and accelerations, among others. \n",
    "\n",
    "\n",
    "## Linear State Space Model\n",
    "The Linear State Space Model represents a dynamic system in a linear fashion. A dynamic system is one where the next state is determined by its current state. Essentially, these are systems that evolve with time."
   ],
   "metadata": {}
  },
  {
   "cell_type": "markdown",
   "source": [
    "## Example: Inverted Pendulum\n",
    "(Controls Bootcamp)\n",
    "\n",
    "![Inverted Pendulum](Inverted-Pendulum.jpg)\n",
    "\n",
    "\n"
   ],
   "metadata": {}
  },
  {
   "cell_type": "markdown",
   "source": [
    "The cart is able to move in the \"x\" direction, and the pendulum angle is able to change. There is a force \"F\" applied on the cart that we are able to control.\n",
    "\n",
    "For this inverted pendulum, our states are $ \\theta $ (the angle between the pendulum and the vertical), d (the distance of the cart from a fixed point), $\\dot{\\theta}$ (the time derivative of theta), and $ \\dot{d} $ (the time derivative of d).\n"
   ],
   "metadata": {}
  },
  {
   "cell_type": "markdown",
   "source": [
    "With this information, our state vector is:\n",
    "\n",
    "  ## $ \\begin{bmatrix} d \\\\ \\dot{d} \\\\ \\theta \\\\ \\dot{\\theta} \\end{bmatrix} $\n",
    "\n"
   ],
   "metadata": {}
  },
  {
   "cell_type": "markdown",
   "source": [
    "# System Linearization\n",
    "\n",
    "Now, to create a Linear State Space Model, we need to linearize our system.\n",
    "The equations of motion for this inverted pendulum and cart system are as follows:\n",
    "\n",
    "# $ \\dot{d} = v $ $\\\\$\n",
    "# $ \\ddot{d} = \\frac{-m^2L^2g(\\cos{\\theta})(\\sin{\\theta}) + mL^2(mL\\omega^2(\\sin{\\theta}) - \\delta v) + mL^2u}{mL^2(M + m(1 - (\\cos{\\theta})^2))} $ $\\\\$\n",
    "# $ \\dot{\\theta} = \\omega $\n",
    "# $\\dot{\\omega} = \\frac{(m + M)mgL(\\sin{\\theta}) - mL(\\cos{\\theta})(mL\\omega^2(\\sin{\\theta}) - \\delta v) + mL(\\cos{\\theta})u}{mL^2(M + m(1 - (\\cos{\\theta})^2))} $\n",
    " \n",
    "These equations were taken from Section 8.7 in\n",
    "[Linear Control Theory](https://www.researchgate.net/publication/332799319_Linear_Control_Theory#pf7).\n",
    "\n",
    "### In these equations, $d$ is the cart position, $v$ is the velocity, $\\theta$ is the pendulum angle, $\\omega$ is the angular velocity, $m$ is the pendulum mass, $M$ is the cart mass, $L$ is the pendulum arm, $g$ is the gravitational acceleration, $\\delta$ is friction damping on the cart, and $u$ is a force applied to the cart that we control."
   ],
   "metadata": {}
  },
  {
   "cell_type": "markdown",
   "source": [],
   "metadata": {}
  }
 ],
 "metadata": {
  "kernelspec": {
   "display_name": "Python 3.9.6 64-bit ('controls_env': venv)",
   "name": "python397jvsc74a57bd00c4470baa6c2326e794c856562a5cc08596cfc6187f70e8cbe9ef248609364e3"
  },
  "language_info": {
   "name": "python",
   "version": ""
  },
  "metadata": {
   "interpreter": {
    "hash": "e7370f93d1d0cde622a1f8e1c04877d8463912d04d973331ad4851f04de6915a"
   }
  },
  "orig_nbformat": 2
 },
 "nbformat": 4,
 "nbformat_minor": 2
}