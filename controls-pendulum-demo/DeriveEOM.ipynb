{
 "cells": [
  {
   "cell_type": "markdown",
   "source": [
    "# State equation for an inverted pendulum"
   ],
   "metadata": {}
  },
  {
   "cell_type": "markdown",
   "source": [
    "## Conceptual Overview\n",
    "\n",
    "#### States\n",
    "\n",
    "The states of a system are variables that can be used to describe the behavior of a system. For a rocket, the states can include the following:\n",
    " - Position variables ($x$, $y$, $z$)\n",
    " - Orientation variables ($\\psi$, $\\theta$, $\\phi$)\n",
    " - Translational velocities ($\\dot{x}$, $\\dot{y}$, $\\dot{z}$) \n",
    " - Translational accelerations ($\\ddot{x}$, $\\ddot{y}$, $\\ddot{z}$)\n",
    " - Angular velocities ($\\dot{\\psi}$, $\\dot{\\theta}$, $\\dot{\\phi}$)\n",
    " - Angular accelerations ($\\ddot{\\psi}$, $\\ddot{\\theta}$, $\\ddot{\\phi}$)\n",
    " - etc\n",
    "\n",
    "\n",
    "#### Linear state space model\n",
    "\n",
    "The linear state space model represents a dynamic system in a linear fashion. A dynamic system is where the next state is determined by its current state. Essentially, these are systems that evolve with time.\n",
    "\n",
    "$$ \\dot{x} = Ax + Bu $$\n",
    "$$ y = Cx + Du $$"
   ],
   "metadata": {}
  },
  {
   "cell_type": "markdown",
   "source": [
    "## Inverted Pendulum (Controls Bootcamp)\n",
    "\n",
    "<img src=\"Inverted-Pendulum.jpg\" alt=\"Inverted Pendulum\" width=\"500\"/>"
   ],
   "metadata": {}
  },
  {
   "cell_type": "markdown",
   "source": [
    "The cart is able to move in the $x$ direction, and the pendulum angle is able to change. There is a force $F$ applied on the cart that we are able to control.\n",
    "\n",
    "For this inverted pendulum, our states are $ \\theta $ (the angle between the pendulum and the vertical), $d$ (the distance of the cart from a fixed point), $\\dot{\\theta}$ (the time derivative of theta), and $ \\dot{d} $ (the time derivative of $d$). With this information, the state vector is defined as:\n",
    "\n",
    "$$ x = \\begin{bmatrix} d \\\\ \\dot{d} \\\\ \\theta \\\\ \\dot{\\theta} \\end{bmatrix} $$\n"
   ],
   "metadata": {}
  },
  {
   "cell_type": "markdown",
   "source": [
    "#### System Linearization\n",
    "\n",
    "Now, to create a Linear State Space Model, we need to linearize our system.\n",
    "The equations of motion for this inverted pendulum and cart system are as follows:\n",
    "\n",
    "$$\\dot{d} = v $$\n",
    "$$\\ddot{d} = \\frac{-m^2L^2g(\\cos{\\theta})(\\sin{\\theta}) + mL^2(mL\\omega^2(\\sin{\\theta}) - \\delta v) + mL^2u}{mL^2(M + m(1 - (\\cos{\\theta})^2))}$$\n",
    "$$\\dot{\\theta} = \\omega $$\n",
    "$$\\dot{\\omega} = \\frac{(m + M)mgL(\\sin{\\theta}) - mL(\\cos{\\theta})(mL\\omega^2(\\sin{\\theta}) - \\delta v) + mL(\\cos{\\theta})u}{mL^2(M + m(1 - (\\cos{\\theta})^2))}$$\n",
    " \n",
    "These equations were taken from Section 8.7 in\n",
    "[Linear Control Theory](https://www.researchgate.net/publication/332799319_Linear_Control_Theory#pf7).\n",
    "\n",
    "In these equations, $d$ is the cart position, $v$ is the velocity, $\\theta$ is the pendulum angle, $\\omega$ is the angular velocity, $m$ is the pendulum mass, $M$ is the cart mass, $L$ is the pendulum arm, $g$ is the gravitational acceleration, $\\delta$ is friction damping on the cart, and $u$ is a force applied to the cart that we control."
   ],
   "metadata": {}
  }
 ],
 "metadata": {
  "kernelspec": {
   "name": "python3",
   "display_name": "Python 3.9.6 64-bit ('learning-controls': conda)"
  },
  "language_info": {
   "name": "python",
   "version": "3.9.6",
   "mimetype": "text/x-python",
   "codemirror_mode": {
    "name": "ipython",
    "version": 3
   },
   "pygments_lexer": "ipython3",
   "nbconvert_exporter": "python",
   "file_extension": ".py"
  },
  "metadata": {
   "interpreter": {
    "hash": "e7370f93d1d0cde622a1f8e1c04877d8463912d04d973331ad4851f04de6915a"
   }
  },
  "orig_nbformat": 2,
  "interpreter": {
   "hash": "dbd0629ca9aa3e0fa200de34859a4cddfea8f9d25489f99cde625a5cd2ba7c91"
  }
 },
 "nbformat": 4,
 "nbformat_minor": 2
}