{
 "cells": [
  {
   "cell_type": "markdown",
   "source": [
    "# IREC Roll and Active Drag Controls Algorithm \n",
    "## 1.1 Import some useful packages  "
   ],
   "metadata": {}
  },
  {
   "cell_type": "code",
   "execution_count": 1,
   "source": [
    "import numpy as np\r\n",
    "import sympy as sym\r\n",
    "import json\r\n",
    "import matplotlib.pyplot as plt\r\n",
    "from scipy import linalg\r\n",
    "from scipy.interpolate import interp1d\r\n",
    "from sympy import Matrix"
   ],
   "outputs": [],
   "metadata": {}
  },
  {
   "cell_type": "markdown",
   "source": [
    "## 1.2 Create an LQR Solver for an optimal K matrix\n",
    "**We need to create** a function that solves the linear quadratic regulator (LQR) problem - i.e., that finds the matrix $K$ for which\n",
    "\n",
    "$$u(t) = - K x(t)$$\n",
    "\n",
    "is the optimal solution to\n",
    "\n",
    "$$\n",
    "\\begin{align*}\n",
    "\\underset{u_{[t_{0}, \\infty)}}{\\text{minimize}} &\\qquad \\int_{t_{0}}^{\\infty}\\left( x(t)^{T}Qx(t)+u(t)^{T}Ru(t)\\right)dt \\\\\n",
    "\\text{subject to} &\\qquad \\dot{x}(t) = Ax(t)+Bu(t), \\quad x(t_{0})=x_{0}.\n",
    "\\end{align*}\n",
    "$$"
   ],
   "metadata": {}
  },
  {
   "cell_type": "code",
   "execution_count": 2,
   "source": [
    "def lqr(A, B, Q, R):\r\n",
    "    P = linalg.solve_continuous_are(A, B, Q, R)\r\n",
    "    K = linalg.inv(R) @  B.T @ P\r\n",
    "    return K"
   ],
   "outputs": [],
   "metadata": {}
  },
  {
   "cell_type": "markdown",
   "source": [
    "## 1.3 Create Functions to convert from imperial to metric units"
   ],
   "metadata": {}
  },
  {
   "cell_type": "code",
   "execution_count": 3,
   "source": [
    "def ft_to_m(measurement):\r\n",
    "    return (measurement / 3.2808) "
   ],
   "outputs": [],
   "metadata": {}
  },
  {
   "cell_type": "markdown",
   "source": [
    "## 2 Derive equations of motion \n",
    "## 2.1 Define some symbolic variables (we could sub any values into them later! Easy)\n",
    "### Example: if x, y, and z are the variabels that we want to turn them into symbolics: do this:\n",
    "$$\n",
    "x, y, z = sym.symbols('x,y,z')\n",
    "$$"
   ],
   "metadata": {}
  },
  {
   "cell_type": "markdown",
   "source": [
    "## Define the states:\n",
    "### Reminder: \n",
    "$$\n",
    "\\dot{x} = Ax + Bu \\\\\n",
    "y = Cx\n",
    "$$\n",
    "### A is the matrix that relates the states to the change of the states \n",
    "### B is the matrix that relates the inputs to the change of the states"
   ],
   "metadata": {}
  },
  {
   "cell_type": "code",
   "execution_count": 4,
   "source": [
    "# defining components of position \r\n",
    "h, y, z = sym.symbols('h, y, z')\r\n",
    "\r\n",
    "# defining roll, pitch and yaw\r\n",
    "psi, theta, phi  = sym.symbols('psi, theta, phi')\r\n",
    "\r\n",
    "# defining the components of the linear velocity \r\n",
    "u, v, w = sym.symbols('u, v, w')\r\n",
    "\r\n",
    "# defining compoenents for angular velocity \r\n",
    "wx, wy, wz = sym.symbols('wx, wy, wz')"
   ],
   "outputs": [],
   "metadata": {}
  },
  {
   "cell_type": "markdown",
   "source": [
    "## Define inputs of the system (u)"
   ],
   "metadata": {}
  },
  {
   "cell_type": "code",
   "execution_count": 5,
   "source": [
    "l1, l2 = sym.symbols('l1, l2')"
   ],
   "outputs": [],
   "metadata": {}
  },
  {
   "cell_type": "markdown",
   "source": [
    "## Define some constants that we are interested in/that we already have! \n",
    "g: acceleration of gravity, W_f: width of the flaps, Ixx: angular acceleration of the rocket body, Sref_a: aerodynamic reference area of the rocket body, rho: density of air, m: dry mass of the rocket, D: diameter of rocket \n",
    "\n",
    "Cd_a: coefficient of drag of the rocket airframe, Cd_f: coefficient of drag of the flaps, Cl_a: coefficient of lift of the rocket airframe, Cl_f: coefficient of lift of the flaps "
   ],
   "metadata": {}
  },
  {
   "cell_type": "code",
   "execution_count": 6,
   "source": [
    "# defining the physical parameters on the rocket \r\n",
    "g, W_f, Ixx, Sref_a, rho, m, D = sym.symbols('g, W_f, Ixx, Sref_a, rho, m, D')\r\n",
    "# defining the coefficients \r\n",
    "Cd_a, Cd_f, Cl_a, Cl_f = sym.symbols('Cd_a, Cd_f, Cl_a, Cl_f')"
   ],
   "outputs": [],
   "metadata": {}
  },
  {
   "cell_type": "markdown",
   "source": [
    "## 2.2 Create equations of motion! "
   ],
   "metadata": {}
  },
  {
   "cell_type": "markdown",
   "source": [
    "### Velocity \n",
    "$$\\dot{h}$$"
   ],
   "metadata": {}
  },
  {
   "cell_type": "code",
   "execution_count": 7,
   "source": [
    "hdot = u\r\n",
    "hdot"
   ],
   "outputs": [
    {
     "output_type": "execute_result",
     "data": {
      "text/latex": [
       "$\\displaystyle u$"
      ],
      "text/plain": [
       "u"
      ]
     },
     "metadata": {},
     "execution_count": 7
    }
   ],
   "metadata": {}
  },
  {
   "cell_type": "markdown",
   "source": [
    "### Acceleration \n",
    "$$\\ddot{h} = \\frac{-0.5 \\cdot \\rho \\cdot v^2 \\cdot Cd_a \\cdot S_{refA} - \\rho \\cdot v^2 \\cdot Cd_f \\cdot w(l_1 + l_2)-mg}{m}$$"
   ],
   "metadata": {}
  },
  {
   "cell_type": "code",
   "execution_count": 8,
   "source": [
    "hddot = -((rho * u**2 * Sref_a * Cd_a) / (2*m)) - ((rho * u**2 * Cd_f * W_f * (l1+l2))/m) - g\r\n",
    "hddot"
   ],
   "outputs": [
    {
     "output_type": "execute_result",
     "data": {
      "text/latex": [
       "$\\displaystyle - \\frac{Cd_{a} Sref_{a} \\rho u^{2}}{2 m} - \\frac{Cd_{f} W_{f} \\rho u^{2} \\left(l_{1} + l_{2}\\right)}{m} - g$"
      ],
      "text/plain": [
       "-Cd_a*Sref_a*rho*u**2/(2*m) - Cd_f*W_f*rho*u**2*(l1 + l2)/m - g"
      ]
     },
     "metadata": {},
     "execution_count": 8
    }
   ],
   "metadata": {}
  },
  {
   "cell_type": "markdown",
   "source": [
    "### Angular Acceleration \n",
    "$$\\dot{\\omega} = \\frac{\\rho v^2 \\cdot Cl_f \\cdot W_f \\cdot (l1D + l1^2 - l2D - l2^2)}{2I_{xx}}$$"
   ],
   "metadata": {}
  },
  {
   "cell_type": "code",
   "execution_count": 9,
   "source": [
    "omegadot = (rho * u**2 * Cl_f * W_f * (l1*D + l1**2 - l2*D - l2**2)) / (2*Ixx)\r\n",
    "omegadot"
   ],
   "outputs": [
    {
     "output_type": "execute_result",
     "data": {
      "text/latex": [
       "$\\displaystyle \\frac{Cl_{f} W_{f} \\rho u^{2} \\left(D l_{1} - D l_{2} + l_{1}^{2} - l_{2}^{2}\\right)}{2 Ixx}$"
      ],
      "text/plain": [
       "Cl_f*W_f*rho*u**2*(D*l1 - D*l2 + l1**2 - l2**2)/(2*Ixx)"
      ]
     },
     "metadata": {},
     "execution_count": 9
    }
   ],
   "metadata": {}
  },
  {
   "cell_type": "markdown",
   "source": [
    "### Create a systems of equation complier that outputs a column matrix with size 3 by 1\n",
    "$$f_{sym}$$\n",
    "use this following code to create a column matrix of the three EOMs\n",
    "$$f_{sym} = sym.Matrix.vstack$$"
   ],
   "metadata": {}
  },
  {
   "cell_type": "code",
   "execution_count": 10,
   "source": [
    "f_sym = Matrix.vstack(Matrix([[hdot],[hddot],[omegadot]]))\r\n",
    "f_sym"
   ],
   "outputs": [
    {
     "output_type": "execute_result",
     "data": {
      "text/latex": [
       "$\\displaystyle \\left[\\begin{matrix}u\\\\- \\frac{Cd_{a} Sref_{a} \\rho u^{2}}{2 m} - \\frac{Cd_{f} W_{f} \\rho u^{2} \\left(l_{1} + l_{2}\\right)}{m} - g\\\\\\frac{Cl_{f} W_{f} \\rho u^{2} \\left(D l_{1} - D l_{2} + l_{1}^{2} - l_{2}^{2}\\right)}{2 Ixx}\\end{matrix}\\right]$"
      ],
      "text/plain": [
       "Matrix([\n",
       "[                                                              u],\n",
       "[-Cd_a*Sref_a*rho*u**2/(2*m) - Cd_f*W_f*rho*u**2*(l1 + l2)/m - g],\n",
       "[        Cl_f*W_f*rho*u**2*(D*l1 - D*l2 + l1**2 - l2**2)/(2*Ixx)]])"
      ]
     },
     "metadata": {},
     "execution_count": 10
    }
   ],
   "metadata": {}
  },
  {
   "cell_type": "markdown",
   "source": [
    "## 3 Derive the state-space model \n",
    "$$\\dot{x} = Ax + Bu$$\n",
    "### Time to derive the A and B matrices!! But first, we need to define the equilibrium points, remember we need to sub them into the symbolic A, B, and C matrices to obtain a CONSTANT matrices. "
   ],
   "metadata": {}
  },
  {
   "cell_type": "markdown",
   "source": [
    "## 3.1\n",
    "### Think about equilibrium. Where is a good equilibrium position for THIS launch? The official definition of the equilibrium point is: \n",
    "An equilibrium point of the nonlinear system is a choice of states $s_\\text{eq}$ and inputs $i_\\text{eq}$ - along with constant parameters $p_\\text{eq}$ - for which\n",
    "\n",
    "$$0 = f(s_\\text{eq}, i_\\text{eq}, p_\\text{eq}).$$"
   ],
   "metadata": {}
  },
  {
   "cell_type": "markdown",
   "source": [
    "### We need to put down two sets of equilibrium values:\n",
    "$$x_{eq}$$\n",
    "and \n",
    "$$u_{eq}$$\n",
    "First is the equilibrium for the state x: \n",
    " equilibrium state for us is when the rocket is at apogee where $$\\dot{h} = v = 0 m/s$$\n",
    "$$\\ddot{h} = a = -9.8 \\frac{m}{s^2}$$\n",
    "$$h = 3000$$"
   ],
   "metadata": {}
  },
  {
   "cell_type": "markdown",
   "source": [
    "### Let's go ahead and create two lists: list \"s\", list \"i\", and list \"p\", they contain respectively, the symbolics of the states, and input as defined in Section 1, and some constants"
   ],
   "metadata": {}
  },
  {
   "cell_type": "markdown",
   "source": [
    "### Defining x"
   ],
   "metadata": {}
  },
  {
   "cell_type": "code",
   "execution_count": 11,
   "source": [
    "s = [h, hdot, wx]"
   ],
   "outputs": [],
   "metadata": {}
  },
  {
   "cell_type": "markdown",
   "source": [
    "### Defining u"
   ],
   "metadata": {}
  },
  {
   "cell_type": "code",
   "execution_count": 12,
   "source": [
    "i = [l1, l2]"
   ],
   "outputs": [],
   "metadata": {}
  },
  {
   "cell_type": "markdown",
   "source": [
    "### Defining a set of parameters/constants in that appear in the f_sym equation"
   ],
   "metadata": {}
  },
  {
   "cell_type": "code",
   "execution_count": 13,
   "source": [
    "p = [Cd_f, Sref_a,Cd_a,rho, W_f, m, g, Cl_f, Ixx, D]"
   ],
   "outputs": [],
   "metadata": {}
  },
  {
   "cell_type": "markdown",
   "source": [
    "### Time to create a function that allows you to sub in the equilibrium values of the states into those symbolic values to obtain a constant state after taking the Jacobian of the matrix\n",
    "$$\n",
    "f = sym.lambdify(x + u, f_{sym})\n",
    "$$"
   ],
   "metadata": {}
  },
  {
   "cell_type": "code",
   "execution_count": 14,
   "source": [
    "f = sym.lambdify(s + i + p, f_sym)"
   ],
   "outputs": [],
   "metadata": {}
  },
  {
   "cell_type": "markdown",
   "source": [
    "### Now we put in the constants that we know, allll the constants\n",
    "### Good thing is we already pre-defined those constants symbolically, so remember to use those 'specific' values!"
   ],
   "metadata": {}
  },
  {
   "cell_type": "code",
   "execution_count": 15,
   "source": [
    "# Mass of the rocket\r\n",
    "m = 50 #kg\r\n",
    "\r\n",
    "# moment of inertia\r\n",
    "Ixx = 0.5*m*0.1524**2\r\n",
    "\r\n",
    "# acceleration of gravity\r\n",
    "g = 9.81 #m/s^2\r\n",
    "\r\n",
    "#  lift coefficient of the rocket \r\n",
    "Cl_a = 0.063\r\n",
    "\r\n",
    "# lift coefficient of the flaps \r\n",
    "Cl_f = 2*np.pi*np.sin(45)\r\n",
    "\r\n",
    "# drag coefficient of the rocket \r\n",
    "Cd_a = 0.58\r\n",
    "\r\n",
    "# drag coefficient of the flaps\r\n",
    "Cd_f = 2*np.pi*np.sin(45)\r\n",
    "\r\n",
    "# Width of the flaps \r\n",
    "W_f = 0.0254 # meters\r\n",
    "\r\n",
    "# Diameter of the rocket \r\n",
    "D = 0.1524 # meters\r\n",
    "\r\n",
    "# reference area of the rocket \r\n",
    "Sref_a = np.pi*(D/2)**2\r\n",
    "\r\n",
    "# Density of air \r\n",
    "rho = 1.225 # kg/m^3\r\n"
   ],
   "outputs": [],
   "metadata": {}
  },
  {
   "cell_type": "markdown",
   "source": [
    "### Time to use the same 's' and 'u' matrices we have defined above and sub in our desired equilibrium values, lots of zerossss"
   ],
   "metadata": {}
  },
  {
   "cell_type": "markdown",
   "source": [
    "### We need to test sub in those values into the f using\r\n",
    "$$\r\n",
    "f(*s,*i,*p)\r\n",
    "$$\r\n",
    "print them out to see if that's what you wanted "
   ],
   "metadata": {}
  },
  {
   "cell_type": "code",
   "execution_count": 16,
   "source": [
    "#Define Equilibrium Values for the States and Inputs\r\n",
    "#* FIXME\r\n",
    "h_e = \r\n",
    "hdote = \r\n",
    "omega_e = \r\n",
    "l1_e = \r\n",
    "l2_e = \r\n",
    "#Create lists of equilibrium states, inputs, parameters\r\n",
    "s_eq = [h_e,hdot_e,omega_e]\r\n",
    "i_eq = [l1_e,l2_e]\r\n",
    "p_eq = [Cd_f,Sref_a,Cd_a,rho,W_f,m,g,Cl_f,Ixx,D]\r\n",
    "\r\n",
    "#* Sub in the values using the f() function\r\n"
   ],
   "outputs": [
    {
     "output_type": "error",
     "ename": "SyntaxError",
     "evalue": "invalid syntax (Temp/ipykernel_16596/2331521181.py, line 3)",
     "traceback": [
      "\u001b[1;36m  File \u001b[1;32m\"C:\\Users\\karna\\AppData\\Local\\Temp/ipykernel_16596/2331521181.py\"\u001b[1;36m, line \u001b[1;32m3\u001b[0m\n\u001b[1;33m    h_e =\u001b[0m\n\u001b[1;37m          ^\u001b[0m\n\u001b[1;31mSyntaxError\u001b[0m\u001b[1;31m:\u001b[0m invalid syntax\n"
     ]
    }
   ],
   "metadata": {}
  },
  {
   "cell_type": "markdown",
   "source": [
    "## 3.2 Computing A and B \n",
    "### We are finally at where we want, using jacobian, and sub in values to find a constant A and B matrix!"
   ],
   "metadata": {}
  },
  {
   "cell_type": "markdown",
   "source": [
    "We want to find\n",
    "\n",
    "$$\n",
    "A = \\frac{\\partial f}{\\partial s}\\biggr\\vert_{(s, i, p) = (s_\\text{eq}, i_\\text{eq}, p_\\text{eq})}\n",
    "\\qquad\\text{and}\\qquad\n",
    "B = \\frac{\\partial f}{\\partial i}\\biggr\\vert_{(s, i, p) = (s_\\text{eq}, i_\\text{eq}, p_\\text{eq})}.\n",
    "$$\n",
    "\n",
    "First, we compute each Jacobian (i.e., each matrix of partial derivatives) in symbolic form."
   ],
   "metadata": {}
  },
  {
   "cell_type": "markdown",
   "source": [
    "### Define A_sym and B_sym, the drill is very similar to how we defined the f_sym and f. You will see the similarity. The code goes like this \n",
    "$$\n",
    "A_{sym} = f_{sym}.jacobian(s) \\\\\n",
    "B_{sym} = f_{sym}.jacobian(i)\n",
    "$$"
   ],
   "metadata": {}
  },
  {
   "cell_type": "code",
   "execution_count": null,
   "source": [],
   "outputs": [],
   "metadata": {}
  },
  {
   "cell_type": "markdown",
   "source": [
    "### Again, remember the lambdify function? \n",
    "### It allows us to substitute values into those pre-defined symbolic expressions. At this moment, the A_sym and B_sym are still symbolic after the jacobian. "
   ],
   "metadata": {}
  },
  {
   "cell_type": "code",
   "execution_count": null,
   "source": [],
   "outputs": [],
   "metadata": {}
  },
  {
   "cell_type": "markdown",
   "source": [
    "### Time to sub in the equilibrium values! Refer back to how we sub in the values into the 'f' function in the last section to write out this section"
   ],
   "metadata": {}
  },
  {
   "cell_type": "code",
   "execution_count": null,
   "source": [],
   "outputs": [],
   "metadata": {}
  },
  {
   "cell_type": "markdown",
   "source": [
    "### Show the A and B matrices in a nice looking way using this: "
   ],
   "metadata": {}
  },
  {
   "cell_type": "code",
   "execution_count": 21,
   "source": [
    "# A_str = np.array2string(A,\r\n",
    "#                         formatter={'float_kind': lambda x: f'{x:5.2f}'},\r\n",
    "#                         prefix='    ',\r\n",
    "#                         max_line_width=np.inf)\r\n",
    "\r\n",
    "# print(f'A = {A_str}')"
   ],
   "outputs": [],
   "metadata": {}
  },
  {
   "cell_type": "code",
   "execution_count": 22,
   "source": [
    "# B_str = np.array2string(B,\r\n",
    "#                         formatter={'float_kind': lambda x: f'{x:10.2f}'},\r\n",
    "#                         prefix='    ',\r\n",
    "#                         max_line_width=np.inf)\r\n",
    "\r\n",
    "# print(f'B = {B_str}')"
   ],
   "outputs": [],
   "metadata": {}
  },
  {
   "cell_type": "markdown",
   "source": [
    "The state-space system is described by\n",
    "\n",
    "$$ \\dot{x} = Ax + Bu $$\n",
    "\n",
    "where\n",
    "\n",
    "$$ x = s - s_\\text{eq} $$\n",
    "\n",
    "and\n",
    "\n",
    "$$ u = i - i_\\text{eq}. $$"
   ],
   "metadata": {}
  },
  {
   "cell_type": "markdown",
   "source": [
    "## 4 Design a controller (Reference tracking and LQR design)"
   ],
   "metadata": {}
  },
  {
   "cell_type": "markdown",
   "source": [
    "### 4.1 Controller Design \n",
    "For your controller, this is the state-feedback form:\n",
    "\n",
    "$$u = - K (x - x_\\text{des})$$\n",
    "\n",
    "where the gain matrix $K$ is chosen by solving an infinite-horizon LQR problem (e.g., with the helper function `lqr`) and where\n",
    "\n",
    "$$x_\\text{des} = \\begin{bmatrix} o_{h, \\text{des}} \\\\ o_{\\dot{h}, \\text{des}} \\\\ o_{\\ddot{h}, \\text{des}} \\end{bmatrix}.$$\n",
    "\n",
    "Remember that the LQR problem is defined by the choice of weights $Q$ and $R$. Both must be square matrices. Both $Q$ and $R$ are almost always chosen to be diagonal. Remember that $Q$ penalizes non-zero states (i.e., non-zero values of $x$) and that $R$ penalizes non-zero inputs (i.e., non-zero values of $u$). If you want smaller states, increase $Q$. If you want smaller inputs, increase $R$.\n",
    "\n",
    "\n",
    "Hint: Use np.diag() to create those two diagonal matrices "
   ],
   "metadata": {}
  },
  {
   "cell_type": "code",
   "execution_count": 23,
   "source": [
    "## Designing a Q matrix \r\n",
    "\r\n",
    "\r\n",
    "## Designing a R matrix\r\n"
   ],
   "outputs": [
    {
     "output_type": "stream",
     "name": "stdout",
     "text": [
      "[ True  True  True]\n"
     ]
    }
   ],
   "metadata": {}
  },
  {
   "cell_type": "markdown",
   "source": [
    "### Calculate the K matrix using the lqr function we have defined! "
   ],
   "metadata": {}
  },
  {
   "cell_type": "code",
   "execution_count": null,
   "source": [],
   "outputs": [
    {
     "output_type": "error",
     "ename": "Error",
     "evalue": "Kernel is dead",
     "traceback": [
      "Error: Kernel is dead",
      "at g._sendKernelShellControl (c:\\Users\\karna\\.vscode\\extensions\\ms-toolsai.jupyter-2021.8.2041215044\\out\\client\\extension.js:52:1006195)",
      "at g.sendShellMessage (c:\\Users\\karna\\.vscode\\extensions\\ms-toolsai.jupyter-2021.8.2041215044\\out\\client\\extension.js:52:1005964)",
      "at g.requestExecute (c:\\Users\\karna\\.vscode\\extensions\\ms-toolsai.jupyter-2021.8.2041215044\\out\\client\\extension.js:52:1008506)",
      "at d.requestExecute (c:\\Users\\karna\\.vscode\\extensions\\ms-toolsai.jupyter-2021.8.2041215044\\out\\client\\extension.js:37:325680)",
      "at w.requestExecute (c:\\Users\\karna\\.vscode\\extensions\\ms-toolsai.jupyter-2021.8.2041215044\\out\\client\\extension.js:32:18027)",
      "at w.executeCodeCell (c:\\Users\\karna\\.vscode\\extensions\\ms-toolsai.jupyter-2021.8.2041215044\\out\\client\\extension.js:52:301076)",
      "at w.execute (c:\\Users\\karna\\.vscode\\extensions\\ms-toolsai.jupyter-2021.8.2041215044\\out\\client\\extension.js:52:300703)",
      "at w.start (c:\\Users\\karna\\.vscode\\extensions\\ms-toolsai.jupyter-2021.8.2041215044\\out\\client\\extension.js:52:296367)",
      "at runMicrotasks (<anonymous>)",
      "at processTicksAndRejections (internal/process/task_queues.js:93:5)",
      "at async t.CellExecutionQueue.executeQueuedCells (c:\\Users\\karna\\.vscode\\extensions\\ms-toolsai.jupyter-2021.8.2041215044\\out\\client\\extension.js:52:311160)",
      "at async t.CellExecutionQueue.start (c:\\Users\\karna\\.vscode\\extensions\\ms-toolsai.jupyter-2021.8.2041215044\\out\\client\\extension.js:52:310700)"
     ]
    }
   ],
   "metadata": {}
  },
  {
   "cell_type": "markdown",
   "source": [
    "### Show a nicely formatted K matrix: "
   ],
   "metadata": {}
  },
  {
   "cell_type": "code",
   "execution_count": null,
   "source": [
    "# K_str = np.array2string(K,\r\n",
    "#                         formatter={'float_kind': lambda x: f'{x:6.3f}'},\r\n",
    "#                         prefix='    ',\r\n",
    "#                         max_line_width=np.inf)\r\n",
    "\r\n",
    "# print(f'K = {K_str}')"
   ],
   "outputs": [],
   "metadata": {}
  },
  {
   "cell_type": "markdown",
   "source": [
    "## Controller Testing\r\n",
    "\r\n"
   ],
   "metadata": {}
  },
  {
   "cell_type": "code",
   "execution_count": null,
   "source": [
    "#State Space Equation for Controller\r\n",
    "#xdot = Ax + Bu, u = -Kx\r\n",
    "#xdot = (A - BK)x\r\n",
    "\r\n",
    "from scipy import integrate\r\n",
    "\r\n",
    "tspan = np.linspace(0,25,num=1000) #from 0 -> 25 seconds\r\n",
    "xinit = [727.65,491.29,0.1] #altitude, velcity at burnout and random starting roll rate\r\n",
    "\r\n",
    "def state_space_func(t,x,Amat,Bmat,Kmat):\r\n",
    "    xdot = (Amat - Bmat@Kmat) @ x\r\n",
    "    return xdot\r\n",
    "\r\n",
    "sol = integrate.solve_ivp(state_space_func,[tspan[0], tspan[-1]], xinit, t_eval=tspan, rtol = 1e-5,args=(A,B,K))\r\n",
    "\r\n",
    "plt.plot(sol.t,sol.y[0]) #alt\r\n",
    "plt.plot(sol.t,sol.y[1]) #vertical velocity\r\n",
    "plt.show()\r\n",
    "plt.plot(sol.t,sol.y[2]) #roll rate\r\n",
    "plt.show()"
   ],
   "outputs": [],
   "metadata": {}
  }
 ],
 "metadata": {
  "orig_nbformat": 4,
  "language_info": {
   "name": "python",
   "version": "3.9.6",
   "mimetype": "text/x-python",
   "codemirror_mode": {
    "name": "ipython",
    "version": 3
   },
   "pygments_lexer": "ipython3",
   "nbconvert_exporter": "python",
   "file_extension": ".py"
  },
  "kernelspec": {
   "name": "python3",
   "display_name": "Python 3.9.6 64-bit ('ae483': conda)"
  },
  "interpreter": {
   "hash": "38f30bad1a7babb8e87d74b38ab57265c65e56614786dd128108964bcc18048f"
  }
 },
 "nbformat": 4,
 "nbformat_minor": 2
}