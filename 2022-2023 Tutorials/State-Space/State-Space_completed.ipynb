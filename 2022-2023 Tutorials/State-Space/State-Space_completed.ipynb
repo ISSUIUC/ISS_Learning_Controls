{
 "cells": [
  {
   "cell_type": "code",
   "execution_count": 1,
   "metadata": {},
   "outputs": [
    {
     "name": "stderr",
     "output_type": "stream",
     "text": [
      "pybullet build time: Jan 28 2022 20:18:15\n"
     ]
    }
   ],
   "source": [
    "# These are standard modules\n",
    "import time\n",
    "import numpy as np\n",
    "from scipy import linalg\n",
    "from scipy import signal\n",
    "import sympy as sym\n",
    "import matplotlib.pyplot as plt\n",
    "from IPython.display import display, Latex, Markdown\n",
    "\n",
    "# This is a custom interface to the pybullet simulator\n",
    "import ae353_platform_nonlinearsensors\n",
    "\n",
    "# Suppress the use of scientific notation when printing small numbers\n",
    "np.set_printoptions(suppress=True)"
   ]
  },
  {
   "cell_type": "code",
   "execution_count": 2,
   "metadata": {},
   "outputs": [],
   "source": [
    "# distance from platform axis to wheel axis\n",
    "l = 1.\n",
    "\n",
    "# radius of wheel\n",
    "rw = 0.5\n",
    "\n",
    "# mass of wheel\n",
    "mw = 0.25\n",
    "\n",
    "# moi of wheel\n",
    "Jw = 0.5 * mw * rw**2\n",
    "\n",
    "# mass of platform\n",
    "mp = 12. * (1. - mw * l**2) / (3.**2 + 2.**2)\n",
    "\n",
    "# moment of inertia of platform\n",
    "Jp = (1. / 12.) * mp * (3.**2 + 2.**2)\n",
    "\n",
    "# gravity\n",
    "g = 9.81\n",
    "\n",
    "# composite parameters\n",
    "J1 = Jp + mw * l**2\n",
    "J2 = Jw"
   ]
  },
  {
   "cell_type": "code",
   "execution_count": 3,
   "metadata": {},
   "outputs": [
    {
     "name": "stdout",
     "output_type": "stream",
     "text": [
      "argv[0]=--width=640\n",
      "argv[1]=--height=480\n",
      "Version = 4.1 INTEL-16.4.5\n",
      "Vendor = Intel Inc.\n",
      "Renderer = Intel(R) Iris(TM) Plus Graphics OpenGL Engine\n",
      "b3Printf: Selected demo: Physics Server\n",
      "startThreads creating 1 threads.\n",
      "starting thread 0\n",
      "started thread 0 \n",
      "MotionThreadFunc thread started\n"
     ]
    }
   ],
   "source": [
    "simulator = ae353_platform_nonlinearsensors.Simulator(\n",
    "    display=True,\n",
    "    roll=0.,\n",
    "    sensor_noise=0.,\n",
    ")"
   ]
  },
  {
   "cell_type": "code",
   "execution_count": 11,
   "metadata": {},
   "outputs": [
    {
     "name": "stdout",
     "output_type": "stream",
     "text": [
      "A =\n",
      "[[0. 1.]\n",
      " [0. 0.]]\n",
      "\n",
      "B =\n",
      "[[0.]\n",
      " [1.]]\n"
     ]
    }
   ],
   "source": [
    "# Define a function to return a state-space model for a given choice of equilibrium point.\n",
    "def get_dynamic_model(q1e, v1e, taue):\n",
    "    # Define variables\n",
    "    q1, v1, tau = sym.symbols('q1, v1, tau')\n",
    "    \n",
    "    # Define right-hand side of ODEs\n",
    "    f = sym.Matrix([\n",
    "        v1,\n",
    "        (1 / J1) * tau,\n",
    "    ])\n",
    "\n",
    "    # Convert floating-point to rational numbers\n",
    "    f = sym.nsimplify(f, rational=True)\n",
    "    \n",
    "    # Verify equilibrium point\n",
    "    f_num = sym.lambdify([q1, v1, tau], f)\n",
    "    if not np.allclose(f_num(q1e, v1e, taue), 0.):\n",
    "        raise Exception('equilibrium point is invalid')\n",
    "    \n",
    "    # Find A and B in symbolic form\n",
    "    A_sym = f.jacobian([q1, v1])\n",
    "    B_sym = f.jacobian([tau])\n",
    "\n",
    "    # Create lambda functions to allow numerical evaluation of A and B\n",
    "    A_num = sym.lambdify([q1, v1, tau], A_sym)\n",
    "    B_num = sym.lambdify([q1, v1, tau], B_sym)\n",
    "\n",
    "    # Find A and B in numeric form (making sure the result is floating-point)\n",
    "    A = A_num(q1e, v1e, taue).astype(float)\n",
    "    B = B_num(q1e, v1e, taue).astype(float)\n",
    "\n",
    "    # Return A and B\n",
    "    return A, B\n",
    "\n",
    "q1e = 0.\n",
    "v1e = 0.\n",
    "taue = 0.\n",
    "\n",
    "A,B = get_dynamic_model(q1e, v1e, taue)\n",
    "print(f'A =\\n{A}\\n\\nB =\\n{B}')\n",
    "\n",
    "    "
   ]
  },
  {
   "cell_type": "code",
   "execution_count": 15,
   "metadata": {},
   "outputs": [
    {
     "name": "stdout",
     "output_type": "stream",
     "text": [
      "\n",
      "C =\n",
      "[[1. 0.]]\n"
     ]
    }
   ],
   "source": [
    "# Define a function to return a state-space model for a given choice of equilibrium point.\n",
    "def get_sensor_model(q1e, v1e, taue):\n",
    "    # Variables\n",
    "    q1, v1, tau = sym.symbols('q1, v1, tau')\n",
    "\n",
    "    # Outputs\n",
    "    o = sym.Matrix([sym.sin(q1)])\n",
    "\n",
    "    # Equilibrium\n",
    "    o_num = sym.lambdify([q1, v1, tau], o)\n",
    "    o_e = o_num(q1e, v1e, taue)\n",
    "    C_num = sym.lambdify([q1, v1, tau], o.jacobian([q1, v1]))\n",
    "    C = C_num(q1e, v1e, taue)\n",
    "    return C\n",
    "    \n",
    "C = get_sensor_model(q1e, v1e, taue)\n",
    "print(f'\\nC =\\n{C}')"
   ]
  },
  {
   "cell_type": "code",
   "execution_count": 16,
   "metadata": {},
   "outputs": [
    {
     "name": "stdout",
     "output_type": "stream",
     "text": [
      "K =\n",
      "[[10.  7.]]\n",
      "\n"
     ]
    }
   ],
   "source": [
    "# Eigenvalue placement\n",
    "K = signal.place_poles(A, B, [-2., -5.]).gain_matrix\n",
    "print(f'K =\\n{K}\\n')"
   ]
  },
  {
   "cell_type": "code",
   "execution_count": 17,
   "metadata": {},
   "outputs": [
    {
     "data": {
      "text/plain": [
       "2"
      ]
     },
     "execution_count": 17,
     "metadata": {},
     "output_type": "execute_result"
    }
   ],
   "source": [
    "Wo = np.block([[C], [C @ A]])\n",
    "np.linalg.matrix_rank(Wo)"
   ]
  },
  {
   "cell_type": "code",
   "execution_count": 18,
   "metadata": {},
   "outputs": [
    {
     "name": "stdout",
     "output_type": "stream",
     "text": [
      "L =\n",
      "[[ 7.]\n",
      " [10.]]\n",
      "\n"
     ]
    }
   ],
   "source": [
    "# Eigenvalue placement\n",
    "L = signal.place_poles(A.T, C.T, [-2., -5.]).gain_matrix.T\n",
    "print(f'L =\\n{L}\\n')"
   ]
  },
  {
   "cell_type": "code",
   "execution_count": 19,
   "metadata": {},
   "outputs": [
    {
     "name": "stdout",
     "output_type": "stream",
     "text": [
      "[[  0.   1.   0.   0.]\n",
      " [-10.  -7. -10.  -7.]\n",
      " [  0.   0.  -7.   1.]\n",
      " [  0.   0. -10.   0.]]\n"
     ]
    }
   ],
   "source": [
    "F = np.block([[A - B @ K, - B @ K],\n",
    "              [np.zeros((2, 2)), A - L @ C]])\n",
    "\n",
    "print(F)"
   ]
  },
  {
   "cell_type": "code",
   "execution_count": 20,
   "metadata": {},
   "outputs": [
    {
     "name": "stdout",
     "output_type": "stream",
     "text": [
      "[-2.+0.j -5.+0.j -5.+0.j -2.+0.j]\n"
     ]
    }
   ],
   "source": [
    "print(linalg.eigvals(F))"
   ]
  },
  {
   "cell_type": "code",
   "execution_count": 21,
   "metadata": {},
   "outputs": [],
   "source": [
    "class Controller:\n",
    "    def __init__(self, A, B, C, K, L, q1e, v1e, taue):\n",
    "        self.dt = 0.01\n",
    "        self.A = A\n",
    "        self.B = B\n",
    "        self.C = C\n",
    "        self.K = K\n",
    "        self.L = L\n",
    "        self.q1e = q1e\n",
    "        self.v1e = v1e\n",
    "        self.taue = taue\n",
    "        \n",
    "        self.variables_to_log = ['xhat']\n",
    "    \n",
    "    def reset(self):\n",
    "        self.xhat = np.array([0., 0.])\n",
    "    \n",
    "    def run(\n",
    "            self,\n",
    "            t,\n",
    "            platform_angle_measurement,\n",
    "        ):\n",
    "        \n",
    "        # Find input\n",
    "        u = - self.K @ self.xhat\n",
    "        \n",
    "        # Find measurement\n",
    "        y = np.array([np.sin(platform_angle_measurement) - np.sin(q1e)])\n",
    "        \n",
    "        # Find state estimate\n",
    "        self.xhat += self.dt * (self.A @ self.xhat + self.B @ u - self.L @ (self.C @ self.xhat - y))\n",
    "        \n",
    "        # Find actuator command\n",
    "        tau = u[0] + self.taue\n",
    "        \n",
    "        wheel_torque = -tau\n",
    "        return wheel_torque"
   ]
  },
  {
   "cell_type": "code",
   "execution_count": 22,
   "metadata": {},
   "outputs": [],
   "source": [
    "# Create controller\n",
    "controller = Controller(A, B, C, K, L, q1e, v1e, taue)\n",
    "\n",
    "# Choose initial conditions\n",
    "(q1i, v1i) = (0., 0.)\n",
    "\n",
    "# Reset simulator\n",
    "simulator.reset(\n",
    "    platform_angle=q1i,\n",
    "    platform_velocity=v1i,\n",
    "    wheel_angle=0.,\n",
    "    wheel_velocity=0.,\n",
    "    sensor_noise=0.1,\n",
    ")\n",
    "\n",
    "# Reset controller\n",
    "controller.reset()\n",
    "\n",
    "# Run simulator\n",
    "data = simulator.run(\n",
    "    controller,\n",
    "    max_time=10.,\n",
    ")"
   ]
  },
  {
   "cell_type": "code",
   "execution_count": 23,
   "metadata": {},
   "outputs": [
    {
     "data": {
      "image/png": "[encoded data removed]",
      "text/plain": [
       "<Figure size 720x576 with 3 Axes>"
      ]
     },
     "metadata": {
      "needs_background": "light"
     },
     "output_type": "display_data"
    },
    {
     "ename": "",
     "evalue": "",
     "output_type": "error",
     "traceback": [
      "\u001b[1;31mThe Kernel crashed while executing code in the the current cell or a previous cell. Please review the code in the cell(s) to identify a possible cause of the failure. Click <a href='https://aka.ms/vscodeJupyterKernelCrash'>here</a> for more info. View Jupyter <a href='command:jupyter.viewOutput'>log</a> for further details."
     ]
    }
   ],
   "source": [
    "t = data['t']\n",
    "q1 = data['platform_angle']\n",
    "v1 = data['platform_velocity']\n",
    "tau = - data['wheel_torque']\n",
    "q1_meas = data['platform_angle_measurement']\n",
    "y1 = q1_meas - q1e\n",
    "x1 = q1 - q1e\n",
    "x2 = v1 - v1e\n",
    "xhat = data['xhat']\n",
    "\n",
    "fig, (ax_x1, ax_x2, ax_tau) = plt.subplots(3, 1, figsize=(10, 8), sharex=True)\n",
    "\n",
    "ax_x1.plot(t, x1, label='$x_1$', linewidth=4)\n",
    "ax_x1.plot(t, xhat[:, 0], '--', label=r'$x_1$ (estimated)', linewidth=4)\n",
    "ax_x1.plot(t, y1, '.', markersize=2, label='$y_1$')\n",
    "\n",
    "ax_x2.plot(t, x2, label='$x_2$', linewidth=4)\n",
    "ax_x2.plot(t, xhat[:, 1], '--', label=r'$x_2$ (estimated)', linewidth=4)\n",
    "\n",
    "ax_tau.plot(t, tau, label=r'$\\tau$', linewidth=4)\n",
    "ax_tau.plot(t, simulator.tau_max * np.ones_like(t), '--', linewidth=4, color='C1')\n",
    "ax_tau.plot(t, - simulator.tau_max * np.ones_like(t), '--', linewidth=4, color='C1')\n",
    "\n",
    "ax_x1.grid()\n",
    "ax_x1.legend(fontsize=16, loc='upper right')\n",
    "ax_x1.tick_params(labelsize=14)\n",
    "ax_x1.set_ylim(-1, 1)\n",
    "\n",
    "ax_x2.grid()\n",
    "ax_x2.legend(fontsize=16, loc='upper right')\n",
    "ax_x2.tick_params(labelsize=14)\n",
    "ax_x2.set_ylim(-1, 1)\n",
    "\n",
    "ax_tau.grid()\n",
    "ax_tau.legend(fontsize=16, loc='upper right')\n",
    "ax_tau.tick_params(labelsize=14)\n",
    "ax_tau.set_ylim(-1.2 * simulator.tau_max, 1.2 * simulator.tau_max)\n",
    "\n",
    "ax_tau.set_xlabel('time (s)', fontsize=20)\n",
    "ax_tau.set_xlim([data['t'][0], data['t'][-1]])\n",
    "\n",
    "fig.tight_layout()\n",
    "plt.show()"
   ]
  }
 ],
 "metadata": {
  "kernelspec": {
   "display_name": "Python 3.10.2 ('ae353')",
   "language": "python",
   "name": "python3"
  },
  "language_info": {
   "codemirror_mode": {
    "name": "ipython",
    "version": 3
   },
   "file_extension": ".py",
   "mimetype": "text/x-python",
   "name": "python",
   "nbconvert_exporter": "python",
   "pygments_lexer": "ipython3",
   "version": "3.10.2"
  },
  "orig_nbformat": 4,
  "vscode": {
   "interpreter": {
    "hash": "2c4887f3ef436ef7cd68036e9980f08c0f934bed72ff627e984d6981ad380a40"
   }
  }
 },
 "nbformat": 4,
 "nbformat_minor": 2
}
