{
 "cells": [
  {
   "cell_type": "markdown",
   "metadata": {},
   "source": [
    "# State Space Control Theory Template"
   ]
  },
  {
   "cell_type": "markdown",
   "metadata": {},
   "source": [
    "Import python modules and configure the notebook"
   ]
  },
  {
   "cell_type": "code",
   "execution_count": 1,
   "metadata": {},
   "outputs": [
    {
     "name": "stderr",
     "output_type": "stream",
     "text": [
      "pybullet build time: Jan 28 2022 20:18:15\n"
     ]
    }
   ],
   "source": [
    "# These are standard modules\n",
    "import time\n",
    "import numpy as np\n",
    "from scipy import linalg\n",
    "from scipy import signal\n",
    "import sympy as sym\n",
    "import matplotlib.pyplot as plt\n",
    "from IPython.display import display, Latex, Markdown\n",
    "\n",
    "# This is a custom interface to the pybullet simulator\n",
    "import ae353_platform_nonlinearsensors\n",
    "\n",
    "# Suppress the use of scientific notation when printing small numbers\n",
    "np.set_printoptions(suppress=True)"
   ]
  },
  {
   "cell_type": "markdown",
   "metadata": {},
   "source": [
    "Define physical constants associated with system"
   ]
  },
  {
   "cell_type": "code",
   "execution_count": 2,
   "metadata": {},
   "outputs": [],
   "source": [
    "# distance from platform axis to wheel axis\n",
    "l = 1.\n",
    "\n",
    "# radius of wheel\n",
    "rw = 0.5\n",
    "\n",
    "# mass of wheel\n",
    "mw = 0.25\n",
    "\n",
    "# moi of wheel\n",
    "Jw = 0.5 * mw * rw**2\n",
    "\n",
    "# mass of platform\n",
    "mp = 12. * (1. - mw * l**2) / (3.**2 + 2.**2)\n",
    "\n",
    "# moment of inertia of platform\n",
    "Jp = (1. / 12.) * mp * (3.**2 + 2.**2)\n",
    "\n",
    "# gravity\n",
    "g = 9.81\n",
    "\n",
    "# composite parameters\n",
    "J1 = Jp + mw * l**2\n",
    "J2 = Jw"
   ]
  },
  {
   "cell_type": "markdown",
   "metadata": {},
   "source": [
    "Create an instance of the `Simulator` class, which is an interface to the [pybullet](http://pybullet.org) simulation engine.\n",
    "\n",
    "Here are three optional arguments you may want to use:\n",
    "\n",
    "* `display` (`True` or `False`) is whether or not to show the simulation window \n",
    "-   (Running with `display = False` makes simulations run faster);\n",
    "-   Recommend to run with `display = False` for data collection, run with `display = True` only if visualization is needed\n",
    "* `roll` is to set the angle of the ground\n",
    "* `sensor_noise` is to set how noisy the sensor is (non-negative floating point)\n",
    "\n",
    "**You must evaluate this cell only *once*.** If you want to start fresh with a new simulator, you must do `Kernel -> Restart` from the notebook menu first. If you evaluate this cell more than once without a call to `Kernel -> Restart` then you may get strange behavior that is hard to debug."
   ]
  },
  {
   "cell_type": "code",
   "execution_count": 3,
   "metadata": {},
   "outputs": [
    {
     "name": "stdout",
     "output_type": "stream",
     "text": [
      "argv[0]=--width=640\n",
      "argv[1]=--height=480\n",
      "Version = 4.1 INTEL-16.4.5\n",
      "Vendor = Intel Inc.\n",
      "Renderer = Intel(R) Iris(TM) Plus Graphics OpenGL Engine\n",
      "b3Printf: Selected demo: Physics Server\n",
      "startThreads creating 1 threads.\n",
      "starting thread 0\n",
      "started thread 0 \n",
      "MotionThreadFunc thread started\n"
     ]
    }
   ],
   "source": [
    "simulator = ae353_platform_nonlinearsensors.Simulator(\n",
    "    display=True,\n",
    "    roll=0.,\n",
    "    sensor_noise=0.,\n",
    ")"
   ]
  },
  {
   "cell_type": "markdown",
   "metadata": {},
   "source": [
    "Find A and B matricies of the state space model"
   ]
  },
  {
   "cell_type": "code",
   "execution_count": 4,
   "metadata": {},
   "outputs": [
    {
     "name": "stdout",
     "output_type": "stream",
     "text": [
      "A =\n",
      "[[0. 1.]\n",
      " [0. 0.]]\n",
      "\n",
      "B =\n",
      "[[0.]\n",
      " [1.]]\n"
     ]
    }
   ],
   "source": [
    "# Define a function to return the dynamic model matricies of the state-space model for a given choice of equilibrium point.\n",
    "def get_dynamic_model(q1e, v1e, taue):\n",
    "    # Define variables\n",
    "    q1, v1, tau = sym.symbols('q1, v1, tau')\n",
    "    \n",
    "    # Define right-hand side of ODEs\n",
    "    f = sym.Matrix([\n",
    "        v1,\n",
    "        (1 / J1) * tau,\n",
    "    ])\n",
    "\n",
    "    # Convert floating-point to rational numbers\n",
    "    f = sym.nsimplify(f, rational=True)\n",
    "    \n",
    "    # Verify equilibrium point\n",
    "    f_num = sym.lambdify([q1, v1, tau], f)\n",
    "    if not np.allclose(f_num(q1e, v1e, taue), 0.):\n",
    "        raise Exception('equilibrium point is invalid')\n",
    "    \n",
    "    # Find A and B in symbolic form\n",
    "    A_sym = f.jacobian([q1, v1])\n",
    "    B_sym = f.jacobian([tau])\n",
    "\n",
    "    # Create lambda functions to allow numerical evaluation of A and B\n",
    "    A_num = sym.lambdify([q1, v1, tau], A_sym)\n",
    "    B_num = sym.lambdify([q1, v1, tau], B_sym)\n",
    "\n",
    "    # Find A and B in numeric form (making sure the result is floating-point)\n",
    "    A = A_num(q1e, v1e, taue).astype(float)\n",
    "    B = B_num(q1e, v1e, taue).astype(float)\n",
    "\n",
    "    # Return A and B\n",
    "    return A, B\n",
    "\n",
    "# Define equilibrium values\n",
    "q1e = 0.\n",
    "v1e = 0.\n",
    "taue = 0.\n",
    "\n",
    "# Call your function to get your dynamic model\n",
    "A,B = get_dynamic_model(q1e, v1e, taue)\n",
    "print(f'A =\\n{A}\\n\\nB =\\n{B}')\n",
    "\n",
    "    "
   ]
  },
  {
   "cell_type": "markdown",
   "metadata": {},
   "source": [
    "Find C and D matricies of the state space model"
   ]
  },
  {
   "cell_type": "code",
   "execution_count": 5,
   "metadata": {},
   "outputs": [
    {
     "name": "stdout",
     "output_type": "stream",
     "text": [
      "\n",
      "C =\n",
      "[[1. 0.]]\n",
      "\n",
      "D=\n",
      "[[0]]\n"
     ]
    }
   ],
   "source": [
    "# Define a function to return the sensor model matricies of the state-space model for a given choice of equilibrium point.\n",
    "def get_sensor_model(q1e, v1e, taue):\n",
    "    # Variables\n",
    "    q1, v1, tau = sym.symbols('q1, v1, tau')\n",
    "\n",
    "    # Outputs\n",
    "    o = sym.Matrix([sym.sin(q1)])\n",
    "\n",
    "    # Equilibrium\n",
    "    o_num = sym.lambdify([q1, v1, tau], o)\n",
    "    o_e = o_num(q1e, v1e, taue)\n",
    "    C_num = sym.lambdify([q1, v1, tau], o.jacobian([q1, v1]))\n",
    "    C = C_num(q1e, v1e, taue)\n",
    "\n",
    "    D_num = sym.lambdify([q1, v1, tau], o.jacobian([tau]))\n",
    "    D = D_num(q1e, v1e, taue)\n",
    "    return C, D\n",
    "    \n",
    "# Call your function to get your sensor model\n",
    "C,D = get_sensor_model(q1e, v1e, taue)\n",
    "print(f'\\nC =\\n{C}\\n\\nD=\\n{D}')"
   ]
  },
  {
   "cell_type": "markdown",
   "metadata": {},
   "source": [
    "Is the system controllable? Can the system be driven to equilibrium with this actuator set up?"
   ]
  },
  {
   "cell_type": "code",
   "execution_count": 6,
   "metadata": {},
   "outputs": [],
   "source": [
    "# Define a function to determine if the system is controllable\n",
    "def controllability_matrix(A, B):\n",
    "    # Find the number of states\n",
    "    n = A.shape[0]\n",
    "\n",
    "    # Initialize W with its first column\n",
    "    W = B\n",
    "\n",
    "    # Create W one column at a time by iterating over i from 1 to n-1\n",
    "    for i in range(1, n):\n",
    "        col = np.linalg.matrix_power(A, i) @ B\n",
    "        W = np.block([W, col])\n",
    "    return W"
   ]
  },
  {
   "cell_type": "code",
   "execution_count": 7,
   "metadata": {},
   "outputs": [
    {
     "name": "stdout",
     "output_type": "stream",
     "text": [
      "Wc =\n",
      "[[0. 1.]\n",
      " [1. 0.]]\n",
      "\n",
      "Controllable? True\n"
     ]
    }
   ],
   "source": [
    "# Determine if the system is controllable\n",
    "Wc = controllability_matrix(A, B)\n",
    "print(f'Wc =\\n{Wc}\\n')\n",
    "rankWc = np.linalg.matrix_rank(Wc)\n",
    "print(f'Controllable? {A.shape[0]==rankWc}')"
   ]
  },
  {
   "cell_type": "markdown",
   "metadata": {},
   "source": [
    "Find Controller gains"
   ]
  },
  {
   "cell_type": "code",
   "execution_count": 8,
   "metadata": {},
   "outputs": [
    {
     "name": "stdout",
     "output_type": "stream",
     "text": [
      "K =\n",
      "[[10.  7.]]\n",
      "\n"
     ]
    }
   ],
   "source": [
    "# Find Controller gain matrix by placing desired poles of dynamic model\n",
    "K = signal.place_poles(A, B, [-2., -5.]).gain_matrix\n",
    "print(f'K =\\n{K}\\n')"
   ]
  },
  {
   "cell_type": "markdown",
   "metadata": {},
   "source": [
    "Is the system observable? Can all the states be observed with the given sensors?"
   ]
  },
  {
   "cell_type": "code",
   "execution_count": 9,
   "metadata": {},
   "outputs": [],
   "source": [
    "# Define a function to determine if the system is observable\n",
    "def observability_matrix(A, C):\n",
    "    # Find the number of states\n",
    "    n = A.shape[0]\n",
    "\n",
    "    A = A.T\n",
    "    C = C.T\n",
    "\n",
    "    # Initialize W with its first column\n",
    "    O = C\n",
    "\n",
    "    # Create W one column at a time by iterating over i from 1 to n-1\n",
    "    for i in range(1, n):\n",
    "        col = np.linalg.matrix_power(A, i) @ C\n",
    "        O = np.block([O, col])\n",
    "    return O.T"
   ]
  },
  {
   "cell_type": "code",
   "execution_count": 10,
   "metadata": {},
   "outputs": [
    {
     "name": "stdout",
     "output_type": "stream",
     "text": [
      "Wo =\n",
      "[[1. 0.]\n",
      " [0. 1.]]\n",
      "\n",
      "Observable? True\n"
     ]
    }
   ],
   "source": [
    "# Determine if the system is observable\n",
    "Wo = observability_matrix(A, C)\n",
    "print(f'Wo =\\n{Wo}\\n')\n",
    "rankWo = np.linalg.matrix_rank(Wo)\n",
    "print(f'Observable? {A.shape[0]==rankWo}')"
   ]
  },
  {
   "cell_type": "markdown",
   "metadata": {},
   "source": [
    "Find observer gains"
   ]
  },
  {
   "cell_type": "code",
   "execution_count": 19,
   "metadata": {},
   "outputs": [
    {
     "name": "stdout",
     "output_type": "stream",
     "text": [
      "L =\n",
      "[[ 7.]\n",
      " [10.]]\n",
      "\n"
     ]
    }
   ],
   "source": [
    "# Find Observer gain matrix by placing desired poles of sensor model\n",
    "L = signal.place_poles(A.T, C.T, [-2., -5.]).gain_matrix.T\n",
    "print(f'L =\\n{L}\\n')"
   ]
  },
  {
   "cell_type": "markdown",
   "metadata": {},
   "source": [
    "Define a controller that maps sensor measurements to actuator commands and implement the controller and observer"
   ]
  },
  {
   "cell_type": "code",
   "execution_count": 22,
   "metadata": {},
   "outputs": [],
   "source": [
    "class Controller:\n",
    "    def __init__(self, A, B, C, K, L, q1e, v1e, taue):\n",
    "        # Define and set variables associated with state space system\n",
    "        self.dt = 0.01\n",
    "        self.A = A\n",
    "        self.B = B\n",
    "        self.C = C\n",
    "        self.K = K\n",
    "        self.L = L\n",
    "        self.q1e = q1e\n",
    "        self.v1e = v1e\n",
    "        self.taue = taue\n",
    "        \n",
    "        # Log state estimate information\n",
    "        self.variables_to_log = ['xhat']\n",
    "    \n",
    "    def reset(self):\n",
    "        # Initialize state estimate\n",
    "        self.xhat = np.array([0., 0.])\n",
    "    \n",
    "    def run(\n",
    "            self,\n",
    "            t,\n",
    "            platform_angle_measurement,\n",
    "        ):\n",
    "        \n",
    "        # Find input\n",
    "        u = - self.K @ self.xhat\n",
    "        \n",
    "        # Find measurement\n",
    "        y = np.array([np.sin(platform_angle_measurement) - np.sin(q1e)])\n",
    "        \n",
    "        # Find state estimate\n",
    "        self.xhat += self.dt * (self.A @ self.xhat + self.B @ u - self.L @ (self.C @ self.xhat - y))\n",
    "        \n",
    "        # Find actuator command\n",
    "        tau = u[0] + self.taue\n",
    "        \n",
    "        wheel_torque = -tau\n",
    "        return wheel_torque"
   ]
  },
  {
   "cell_type": "markdown",
   "metadata": {},
   "source": [
    "Run the simulation"
   ]
  },
  {
   "cell_type": "code",
   "execution_count": 24,
   "metadata": {},
   "outputs": [],
   "source": [
    "# Create controller\n",
    "controller = Controller(A, B, C, K, L, q1e, v1e, taue)\n",
    "\n",
    "# Choose initial conditions\n",
    "(q1i, v1i) = (0., 0.)\n",
    "\n",
    "# Reset simulator\n",
    "simulator.reset(\n",
    "    platform_angle=q1i,\n",
    "    platform_velocity=v1i,\n",
    "    wheel_angle=0.,\n",
    "    wheel_velocity=0.,\n",
    "    sensor_noise=0.1,\n",
    ")\n",
    "\n",
    "# Reset controller\n",
    "controller.reset()\n",
    "\n",
    "# Run simulator\n",
    "data = simulator.run(\n",
    "    controller,\n",
    "    max_time=10.,\n",
    ")"
   ]
  },
  {
   "cell_type": "markdown",
   "metadata": {},
   "source": [
    "Plot the collected data"
   ]
  },
  {
   "cell_type": "code",
   "execution_count": 1,
   "metadata": {},
   "outputs": [
    {
     "ename": "NameError",
     "evalue": "name 'data' is not defined",
     "output_type": "error",
     "traceback": [
      "\u001b[0;31m---------------------------------------------------------------------------\u001b[0m",
      "\u001b[0;31mNameError\u001b[0m                                 Traceback (most recent call last)",
      "\u001b[1;32m/Users/parth/Documents/GitHub/ISS_Learning_Controls/2022-2023 Tutorials/State-Space/State-Space_template.ipynb Cell 3'\u001b[0m in \u001b[0;36m<module>\u001b[0;34m\u001b[0m\n\u001b[0;32m----> <a href='vscode-notebook-cell:/Users/parth/Documents/GitHub/ISS_Learning_Controls/2022-2023%20Tutorials/State-Space/State-Space_template.ipynb#ch0000000?line=0'>1</a>\u001b[0m t \u001b[39m=\u001b[39m data[\u001b[39m'\u001b[39m\u001b[39mt\u001b[39m\u001b[39m'\u001b[39m]\n\u001b[1;32m      <a href='vscode-notebook-cell:/Users/parth/Documents/GitHub/ISS_Learning_Controls/2022-2023%20Tutorials/State-Space/State-Space_template.ipynb#ch0000000?line=1'>2</a>\u001b[0m q1 \u001b[39m=\u001b[39m data[\u001b[39m'\u001b[39m\u001b[39mplatform_angle\u001b[39m\u001b[39m'\u001b[39m]\n\u001b[1;32m      <a href='vscode-notebook-cell:/Users/parth/Documents/GitHub/ISS_Learning_Controls/2022-2023%20Tutorials/State-Space/State-Space_template.ipynb#ch0000000?line=2'>3</a>\u001b[0m v1 \u001b[39m=\u001b[39m data[\u001b[39m'\u001b[39m\u001b[39mplatform_velocity\u001b[39m\u001b[39m'\u001b[39m]\n",
      "\u001b[0;31mNameError\u001b[0m: name 'data' is not defined"
     ]
    }
   ],
   "source": [
    "# Get data from simulation\n",
    "t = data['t']\n",
    "q1 = data['platform_angle']\n",
    "v1 = data['platform_velocity']\n",
    "tau = - data['wheel_torque']\n",
    "q1_meas = data['platform_angle_measurement']\n",
    "y1 = q1_meas - q1e\n",
    "x1 = q1 - q1e\n",
    "x2 = v1 - v1e\n",
    "xhat = data['xhat']\n",
    "\n",
    "# Create figure\n",
    "fig, (ax_x1, ax_x2, ax_tau) = plt.subplots(3, 1, figsize=(10, 8), sharex=True)\n",
    "\n",
    "# Plot position estimate\n",
    "ax_x1.plot(t, x1, label='$x_1$', linewidth=4)\n",
    "ax_x1.plot(t, xhat[:, 0], '--', label=r'$x_1$ (estimated)', linewidth=4)\n",
    "ax_x1.plot(t, y1, '.', markersize=2, label='$y_1$')\n",
    "\n",
    "# Plot velocity estimate\n",
    "ax_x2.plot(t, x2, label='$x_2$', linewidth=4)\n",
    "ax_x2.plot(t, xhat[:, 1], '--', label=r'$x_2$ (estimated)', linewidth=4)\n",
    "\n",
    "# Plot torque\n",
    "ax_tau.plot(t, tau, label=r'$\\tau$', linewidth=4)\n",
    "ax_tau.plot(t, simulator.tau_max * np.ones_like(t), '--', linewidth=4, color='C1')\n",
    "ax_tau.plot(t, - simulator.tau_max * np.ones_like(t), '--', linewidth=4, color='C1')\n",
    "\n",
    "# Format plots\n",
    "ax_x1.grid()\n",
    "ax_x1.legend(fontsize=16, loc='upper right')\n",
    "ax_x1.tick_params(labelsize=14)\n",
    "ax_x1.set_ylim(-1, 1)\n",
    "\n",
    "ax_x2.grid()\n",
    "ax_x2.legend(fontsize=16, loc='upper right')\n",
    "ax_x2.tick_params(labelsize=14)\n",
    "ax_x2.set_ylim(-1, 1)\n",
    "\n",
    "ax_tau.grid()\n",
    "ax_tau.legend(fontsize=16, loc='upper right')\n",
    "ax_tau.tick_params(labelsize=14)\n",
    "ax_tau.set_ylim(-1.2 * simulator.tau_max, 1.2 * simulator.tau_max)\n",
    "\n",
    "ax_tau.set_xlabel('time (s)', fontsize=20)\n",
    "ax_tau.set_xlim([data['t'][0], data['t'][-1]])\n",
    "\n",
    "fig.tight_layout()\n",
    "plt.show()"
   ]
  }
 ],
 "metadata": {
  "kernelspec": {
   "display_name": "Python 3.10.2 ('ae353')",
   "language": "python",
   "name": "python3"
  },
  "language_info": {
   "codemirror_mode": {
    "name": "ipython",
    "version": 3
   },
   "file_extension": ".py",
   "mimetype": "text/x-python",
   "name": "python",
   "nbconvert_exporter": "python",
   "pygments_lexer": "ipython3",
   "version": "3.10.2"
  },
  "orig_nbformat": 4,
  "vscode": {
   "interpreter": {
    "hash": "2c4887f3ef436ef7cd68036e9980f08c0f934bed72ff627e984d6981ad380a40"
   }
  }
 },
 "nbformat": 4,
 "nbformat_minor": 2
}
