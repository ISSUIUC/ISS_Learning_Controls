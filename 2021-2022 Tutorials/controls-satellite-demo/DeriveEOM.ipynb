{
 "cells": [
  {
   "cell_type": "markdown",
   "id": "846c3c88",
   "metadata": {},
   "source": [
    "# Deriving Equations of Motion"
   ]
  },
  {
   "cell_type": "markdown",
   "id": "3714ce5a",
   "metadata": {},
   "source": [
    "Let's first install some useful libraries."
   ]
  },
  {
   "cell_type": "code",
   "execution_count": null,
   "id": "4c25a9f0",
   "metadata": {},
   "outputs": [],
   "source": [
    "import time\n",
    "import matplotlib.pyplot as plt\n",
    "from scipy import linalg\n",
    "import sympy as sym\n",
    "import numpy as np\n",
    "import ae353_spacecraft\n",
    "import importlib\n",
    "importlib.reload(ae353_spacecraft)"
   ]
  },
  {
   "cell_type": "markdown",
   "id": "b04fa788",
   "metadata": {},
   "source": [
    "## Defining the dynamic model\n",
    "\n",
    "Specify the physical parameters:\n",
    " - `m_body`: Mass of body\n",
    " - `Jx_body`, `Jy_body`, `Jz_body`: Inertia values for the body \n",
    " - `m_wheel`: Mass of reaction wheels \n",
    " - `Jx_wheel`, `Jy_wheel`, `Jz_wheel`: Inertia values for the reaction wheels\n",
    " - `l_wheel`: Dimension parameter for the wheel itself"
   ]
  },
  {
   "cell_type": "code",
   "execution_count": null,
   "id": "0d0d6da7",
   "metadata": {},
   "outputs": [],
   "source": [
    "m_body = 6.\n",
    "Jx_body = 10.\n",
    "Jy_body = 10.\n",
    "Jz_body = 16.\n",
    "\n",
    "m_wheel = 1.\n",
    "Jx_wheel = 0.075\n",
    "Jy_wheel = 0.075\n",
    "Jz_wheel = 0.125\n",
    "l_wheel = 1.1"
   ]
  },
  {
   "cell_type": "markdown",
   "id": "4924dfd2",
   "metadata": {},
   "source": [
    "Derive the equations of motion:"
   ]
  },
  {
   "cell_type": "code",
   "execution_count": null,
   "id": "3bdc92e7",
   "metadata": {},
   "outputs": [],
   "source": [
    "# roll, pitch, yaw angles\n",
    "phi, theta, psi = sym.symbols('phi, theta, psi')\n",
    "\n",
    "# angular velocities\n",
    "w_x, w_y, w_z = sym.symbols('w_x, w_y, w_z')\n",
    "\n",
    "# torques\n",
    "tau_1, tau_2, tau_3, tau_4 = sym.symbols('tau_1, tau_2, tau_3, tau_4')\n",
    "\n",
    "# resultant torques\n",
    "lt = sym.nsimplify(l_wheel) * sym.sqrt(2) / 2\n",
    "T1 = - tau_1 * sym.Matrix([[lt], [0], [lt]])\n",
    "T2 = - tau_2 * sym.Matrix([[-lt], [0], [lt]])\n",
    "T3 = - tau_3 * sym.Matrix([[0], [lt], [lt]])\n",
    "T4 = - tau_4 * sym.Matrix([[0], [-lt], [lt]])\n",
    "T = T1 + T2 + T3 + T4\n",
    "\n",
    "# parameters\n",
    "Jx = sym.nsimplify(Jx_body + 4 * m_wheel * l_wheel**2)\n",
    "Jy = sym.nsimplify(Jy_body + 4 * m_wheel * l_wheel**2)\n",
    "Jz = sym.nsimplify(Jz_body + 4 * m_wheel * l_wheel**2)\n",
    "\n",
    "# rotation matrices\n",
    "Rx = sym.Matrix([[1, 0, 0], [0, sym.cos(phi), -sym.sin(phi)], [0, sym.sin(phi), sym.cos(phi)]])\n",
    "Ry = sym.Matrix([[sym.cos(theta), 0, sym.sin(theta)], [0, 1, 0], [-sym.sin(theta), 0, sym.cos(theta)]])\n",
    "Rz = sym.Matrix([[sym.cos(psi), -sym.sin(psi), 0], [sym.sin(psi), sym.cos(psi), 0], [0, 0, 1]])\n",
    "\n",
    "# angular velocity to angular rates\n",
    "ex = sym.Matrix([[1], [0], [0]])\n",
    "ey = sym.Matrix([[0], [1], [0]])\n",
    "ez = sym.Matrix([[0], [0], [1]])\n",
    "M = sym.simplify(sym.Matrix.hstack((Ry * Rz).T * ex, Rz.T * ey, ez).inv(), full=True)\n",
    "\n",
    "# euler's equations\n",
    "euler = sym.Matrix([[(1 / Jx) * (T[0] + (Jy - Jz) * w_y * w_z)],\n",
    "                   [(1 / Jy) * (T[1] + (Jz - Jx) * w_z * w_x)],\n",
    "                   [(1 / Jz) * (T[2] + (Jx - Jy) * w_x * w_y)]])\n",
    "\n",
    "# equations of motion\n",
    "f = sym.simplify(sym.Matrix.vstack(M * sym.Matrix([[w_x], [w_y], [w_z]]), euler), full=True)"
   ]
  },
  {
   "cell_type": "markdown",
   "id": "bd1ae17f",
   "metadata": {},
   "source": [
    "The equations of motion have this form:\n",
    "\n",
    "$$\\begin{bmatrix} \\dot{\\phi} \\\\ \\dot{\\theta} \\\\ \\dot{\\psi} \\\\ \\dot{w_x} \\\\ \\dot{w_y} \\\\ \\dot{w_z} \\end{bmatrix} = f\\left(\\phi, \\theta, \\psi, w_x, w_y, w_z, \\tau_1, \\tau_2, \\tau_3, \\tau_4\\right)$$\n",
    "\n",
    "Here is the function $f$:"
   ]
  },
  {
   "cell_type": "code",
   "execution_count": null,
   "id": "9594ff88",
   "metadata": {},
   "outputs": [],
   "source": [
    "f"
   ]
  },
  {
   "cell_type": "markdown",
   "id": "3e2b8df5",
   "metadata": {},
   "source": [
    "`lambdify` is used to convert the symbolic equation as a callable function. We apply this function on for the equations of motion generate the function `f_num`"
   ]
  },
  {
   "cell_type": "code",
   "execution_count": null,
   "id": "06469e71",
   "metadata": {},
   "outputs": [],
   "source": [
    "f_num = sym.lambdify((phi,theta,psi,w_x,w_y,w_z,tau_1,tau_2,tau_3,tau_4),f)"
   ]
  },
  {
   "cell_type": "markdown",
   "id": "fac2b279",
   "metadata": {},
   "source": [
    "## Defining a equilibrium values\n",
    "\n",
    "These values are specifically chosen so that the control system converges to these desired values. In this case, we want the spacecraft to maintain its attitude given external disturbances. "
   ]
  },
  {
   "cell_type": "code",
   "execution_count": null,
   "id": "ef54817b",
   "metadata": {},
   "outputs": [],
   "source": [
    "phi_e = 0\n",
    "theta_e = 0\n",
    "psi_e = 0\n",
    "wx_e = 0\n",
    "wy_e = 0\n",
    "wz_e = 0\n",
    "tau1_e = 0\n",
    "tau2_e = 0\n",
    "tau3_e = 0\n",
    "tau4_e = 0"
   ]
  },
  {
   "cell_type": "markdown",
   "id": "142a0593",
   "metadata": {},
   "source": [
    "Using the equilibirum values and the funtion `f_num` previously defined above, we verify that $f_{eq} = \\overline0$ (6 x 1 matrix)."
   ]
  },
  {
   "cell_type": "code",
   "execution_count": null,
   "id": "8bca95d4",
   "metadata": {},
   "outputs": [],
   "source": [
    "feq = f_num(phi_e,theta_e,psi_e,wx_e,wy_e,wz_e,tau1_e,tau2_e,tau3_e,tau4_e)\n",
    "feq"
   ]
  },
  {
   "cell_type": "markdown",
   "id": "2c38623a",
   "metadata": {},
   "source": [
    "## Linearizing the equations of motion \n",
    "\n",
    "Variable definitions\n",
    " - $x$: Vector that describes the state which are variables of interest\n",
    " - $\\dot{x}$: Vector that describes the time rate change of state\n",
    " - $u$: inputs vector (actuators in the system that we control)\n",
    " - $A$: Matrix that relates the states to the time rate change of state\n",
    " - $B$: Matrix that relates the inputs to the time rate change of state\n",
    "\n",
    "To find $A$, apply the `jacobian` function from the `sympy` library. We take partial derivatives of the equations of motion ($f$) with respect to the state ($x$).\n",
    "\n",
    "$$x = \\begin{bmatrix} \\phi \\\\ \\theta \\\\ \\psi \\\\ w_x \\\\ w_y \\\\ w_z \\end{bmatrix},~A = \\frac{\\partial f}{\\partial x}$$\n",
    "\n",
    "To find $B$, apply the `jacobian` function from the `sympy` library. We take partial derivatives of the equations of motion ($f$) with respect to the input ($u$).\n",
    "\n",
    "$$u = \\begin{bmatrix} \\tau_1 \\\\ \\tau_2 \\\\ \\tau_3 \\\\ \\tau_4 \\end{bmatrix},~B = \\frac{\\partial f}{\\partial u}$$"
   ]
  },
  {
   "cell_type": "code",
   "execution_count": null,
   "id": "bf3a25d1",
   "metadata": {},
   "outputs": [],
   "source": [
    "states = [phi,theta, psi, w_x, w_y, w_z]\n",
    "A_sym = f.jacobian(states)\n",
    "\n",
    "inputs = [tau_1, tau_2, tau_3, tau_4]\n",
    "B_sym = f.jacobian(inputs)"
   ]
  },
  {
   "cell_type": "markdown",
   "id": "a0365ca9",
   "metadata": {},
   "source": [
    "We want to linearize about our equilibirium values, so we need to sub in the equilibrium values into the symbolic A and B matrices."
   ]
  },
  {
   "cell_type": "code",
   "execution_count": null,
   "id": "1c248656",
   "metadata": {},
   "outputs": [],
   "source": [
    "A_num = sym.lambdify(states,A_sym)\n",
    "B_num = sym.lambdify(inputs,B_sym)\n",
    "\n",
    "A = A_num(phi_e,theta_e,psi_e,wx_e,wy_e,wz_e)\n",
    "B = B_num(tau1_e, tau2_e, tau3_e, tau4_e)"
   ]
  },
  {
   "cell_type": "markdown",
   "id": "df0efc4e",
   "metadata": {},
   "source": [
    "## The state equation\n",
    "We can use these components to create the state equation. \n",
    "$$\\dot{x} = Ax + Bu$$"
   ]
  },
  {
   "cell_type": "markdown",
   "id": "872a323f",
   "metadata": {},
   "source": [
    "## Checking for controllability\n",
    "\n",
    "To check for controllability, we must verify that system itself is controllable. This can be done with the following equation.\n",
    "\n",
    "$$u = -Kx$$\n",
    "\n",
    "$K$ is a constant matrix that is choosen that tells us what our inputs should be, given our state ($x$).\n",
    "\n",
    "First, we create the controllability matrix ($W$) as shown below in the code block. We can check if the controllability matrix is of full rank, meaning that the system is controllable."
   ]
  },
  {
   "cell_type": "code",
   "execution_count": null,
   "id": "bbea2474",
   "metadata": {},
   "outputs": [],
   "source": [
    "#* Number of states\n",
    "n = len(B)\n",
    "\n",
    "#* Initialize the Controllability Matrix (W)\n",
    "W = B\n",
    "\n",
    "#* Create the Controllability Matrix (W)\n",
    "for i in range(1,n):\n",
    "    new_mat = np.linalg.matrix_power(A, i) @ B\n",
    "    W = np.block([W,new_mat])\n",
    "\n",
    "#* Make sure that the rank of the matrix is equal to the number of states\n",
    "if (np.linalg.matrix_rank(W) == n):\n",
    "    print(\"Full rank\")\n",
    "else:\n",
    "    print(\"Rank deficient\") "
   ]
  },
  {
   "cell_type": "markdown",
   "id": "89a9ef72",
   "metadata": {},
   "source": [
    "## LQR Design (Linear Quadratic Regulator)\n",
    "\n",
    "LQR is a method useful for optimal controls which involves choosing a $K$ matrix to stabilize the system by balancing emphasis on the state or the input.\n",
    "\n",
    "The $Q$ matrix describes the penalty for deviating from the state. The $R$ matrix decribes the penalty for using our actuators to get to the desired state. Based on the states or inputs you want to emphasize, it is recommended to set these values to the orders of magnitude of 10. By defining these values as a vector, we can transform it into a diagonalized matrix. This process can be seen in the code below. "
   ]
  },
  {
   "cell_type": "code",
   "execution_count": null,
   "id": "584711a8",
   "metadata": {},
   "outputs": [],
   "source": [
    "## Designing a Q matrix \n",
    "Q_diag = np.array([1,1,1,10,10,10]) #roll, pitch, yaw, wx, wy, wz\n",
    "Q = np.diag(Q_diag)\n",
    "\n",
    "## Designing a R matrix\n",
    "R_diag = np.array([0.1,0.1,0.1,0.1]) #tau1, tau2, tau3, tau4\n",
    "R = np.diag(R_diag)\n",
    "\n",
    "#* Making a LQR function that outputs k\n",
    "#* We solve the Ricatti equation for optimal controller gains\n",
    "def lqr(A,B,Q,R):\n",
    "    P = linalg.solve_continuous_are(A,B,Q,R)\n",
    "    K = linalg.inv(R) @ B.T @ P\n",
    "    return K\n",
    "K = lqr(A,B,Q,R)\n",
    "\n",
    "##* testing to see if the A - BK has all negative eigenvalues \n",
    "F = A - B@K\n",
    "eig = np.linalg.eigvals(F)\n",
    "\n",
    "print(eig.real < 0)\n"
   ]
  },
  {
   "cell_type": "markdown",
   "id": "102717d0",
   "metadata": {},
   "source": [
    "## Defining the sensor model"
   ]
  },
  {
   "cell_type": "markdown",
   "id": "e634cfb0",
   "metadata": {},
   "source": [
    "Symbolic variables for right ascension $\\alpha$ and declination $\\delta$ of each star:"
   ]
  },
  {
   "cell_type": "code",
   "execution_count": null,
   "id": "21a1d43e",
   "metadata": {},
   "outputs": [],
   "source": [
    "alpha, delta = sym.symbols('alpha, delta')"
   ]
  },
  {
   "cell_type": "markdown",
   "id": "5e76edee",
   "metadata": {},
   "source": [
    "Specify the physical parameters:"
   ]
  },
  {
   "cell_type": "code",
   "execution_count": null,
   "id": "807481df",
   "metadata": {},
   "outputs": [],
   "source": [
    "# Scope radius\n",
    "r = 0.8 / 2.1"
   ]
  },
  {
   "cell_type": "markdown",
   "id": "e3db3f07",
   "metadata": {},
   "source": [
    "Define the function"
   ]
  },
  {
   "cell_type": "code",
   "execution_count": null,
   "id": "790f8fcf",
   "metadata": {},
   "outputs": [],
   "source": [
    "# Position of star in space frame\n",
    "p_star_in_space = sym.Matrix([[sym.cos(alpha) * sym.cos(delta)],\n",
    "                              [sym.sin(alpha) * sym.cos(delta)],\n",
    "                              [sym.sin(delta)]])\n",
    "\n",
    "# Orientation of body frame in space frame\n",
    "R_body_in_space = Rx * Ry * Rz\n",
    "\n",
    "# Position of star in body frame (assuming origin of body and space frames are the same)\n",
    "p_star_in_body = R_body_in_space.T * p_star_in_space\n",
    "\n",
    "# Position of star in image frame\n",
    "p_star_in_image = (1 / sym.nsimplify(r)) * sym.Matrix([[p_star_in_body[1] / p_star_in_body[0]],\n",
    "                                                       [p_star_in_body[2] / p_star_in_body[0]]])\n",
    "\n",
    "# Sensor model for each star\n",
    "g = sym.simplify(p_star_in_image, full=True) "
   ]
  },
  {
   "cell_type": "markdown",
   "id": "eef3c2c2",
   "metadata": {},
   "source": [
    "The sensor model has this form for each star:\n",
    "\n",
    "$$\\zeta = g(\\phi, \\theta, \\psi, \\alpha, \\delta)$$\n",
    "\n",
    "Here is the function $g$:"
   ]
  },
  {
   "cell_type": "code",
   "execution_count": null,
   "id": "4390f42e",
   "metadata": {},
   "outputs": [],
   "source": [
    "g"
   ]
  },
  {
   "cell_type": "markdown",
   "id": "696e8efd",
   "metadata": {},
   "source": [
    "## Defining equilibrium values\n",
    "\n",
    "$g$ is a function of $\\alpha$, $\\delta$, and other state variables that give us the pixel positions for each star."
   ]
  },
  {
   "cell_type": "code",
   "execution_count": null,
   "id": "8eb55c65",
   "metadata": {},
   "outputs": [],
   "source": [
    "# making G a combination of multiple stars, in this case, we are doing 3 stars\n",
    "alpha1 = 0\n",
    "delta1 = 0\n",
    "alpha2 = 0.15\n",
    "delta2 = 0\n",
    "alpha3 = 0\n",
    "delta3 = 0.15\n",
    "\n",
    "g = np.block([[g.subs([(alpha,alpha1),(delta,delta1)])],[g.subs([(alpha,alpha2),(delta,delta2)])],[g.subs([(alpha,alpha3),(delta,delta3)])]])\n",
    "g = sym.Matrix(g) #turning an array into a symbolic matrix expression\n",
    "g"
   ]
  },
  {
   "cell_type": "markdown",
   "id": "d51d3205",
   "metadata": {},
   "source": [
    "Next step is to find the equilibrium state for $g$. We use `lambdify` to sub in the equilibrium values of $\\phi$, $\\theta$, and $\\psi$.\n"
   ]
  },
  {
   "cell_type": "code",
   "execution_count": null,
   "id": "151b7a16",
   "metadata": {},
   "outputs": [],
   "source": [
    "g_num = sym.lambdify((phi, theta, psi), g)\n",
    "g_eq = g_num(phi_e, theta_e, psi_e)\n",
    "g_eq.tolist()"
   ]
  },
  {
   "cell_type": "markdown",
   "id": "a847af8e",
   "metadata": {},
   "source": [
    "## Linearizing the equations of motion\n",
    "\n",
    "We find the matrix $C$ by taking the Jacobian of $g$ with respect to the state and input.\n"
   ]
  },
  {
   "cell_type": "code",
   "execution_count": null,
   "id": "8d184f6f",
   "metadata": {},
   "outputs": [],
   "source": [
    "C_num = sym.lambdify((phi, theta, psi), g.jacobian([phi, theta, psi, w_x, w_y, w_z]))\n",
    "C = C_num(phi_e,theta_e,psi_e)\n",
    "C"
   ]
  },
  {
   "cell_type": "markdown",
   "id": "60deae39",
   "metadata": {},
   "source": [
    "## Checkling for observability\n",
    "\n",
    "Observability is the ability of a system to estimate any state from a history of sensor measurements. It's useful to have an observer when we have states that we cannot directly measure."
   ]
  },
  {
   "cell_type": "code",
   "execution_count": null,
   "id": "04803b75",
   "metadata": {},
   "outputs": [],
   "source": [
    "Wo = C\n",
    "\n",
    "for i in range(1,n):\n",
    "    row = C @ np.linalg.matrix_power(A,i)\n",
    "    Wo = np.block([[Wo],[row]])\n",
    "\n",
    "rank = np.linalg.matrix_rank(Wo)\n",
    "print(rank)"
   ]
  },
  {
   "cell_type": "markdown",
   "id": "5a5a6008",
   "metadata": {},
   "source": [
    "## Optimal Observer Design\n",
    "\n",
    "We can use LQR to find an optimal observer"
   ]
  },
  {
   "cell_type": "code",
   "execution_count": null,
   "id": "858cd004",
   "metadata": {},
   "outputs": [],
   "source": [
    "Qo = np.diag(np.ones(2*3))\n",
    "# 2 outputs per star -> 6 total output values\n",
    "\n",
    "# Low penalty to the actuators\n",
    "Ro = 0.05 * np.diag([1.,1.,1.,1.,1.,1.])\n",
    "\n",
    "L = lqr(A.T, C.T, linalg.inv(Ro), linalg.inv(Qo)).T\n",
    "\n",
    "#The real part of all eigenvalues should be negative\n",
    "H = A - L@C\n",
    "eig_o = linalg.eigvals(H)\n",
    "print(eig_o.real < 0)\n"
   ]
  },
  {
   "cell_type": "markdown",
   "id": "21ed2f6e",
   "metadata": {},
   "source": [
    "## Simulation with Controller"
   ]
  },
  {
   "cell_type": "markdown",
   "id": "d16c088d",
   "metadata": {},
   "source": [
    "Define the controller using the values calculated above."
   ]
  },
  {
   "cell_type": "code",
   "execution_count": null,
   "id": "c784093c",
   "metadata": {},
   "outputs": [],
   "source": [
    "class RobotController:\n",
    "    def __init__(self, A, B, C, K, L, Geq):\n",
    "        self.dt = 0.01\n",
    "        self.K = K\n",
    "        self.L = L\n",
    "        self.A = A\n",
    "        self.C = C\n",
    "        self.B = B\n",
    "        self.Geq = Geq \n",
    "        # All the equilibrium values were chosen to be 0, so they are not defined here\n",
    "        self.reset()\n",
    "    \n",
    "    def reset(self):\n",
    "        self.xhat = np.zeros((6, 1))\n",
    "    \n",
    "    def run(self, p, v):\n",
    "        z = np.array([p]).T\n",
    "        y = np.array(z - self.Geq)\n",
    "        u = -self.K @ self.xhat\n",
    "        tau = np.array([u[0,0], u[1,0], u[2,0], u[3,0]])\n",
    "        xhatold = self.xhat\n",
    "        for i in range(self.xhat.shape[0]):\n",
    "            if np.isnan(self.xhat[i,0]):\n",
    "                self.xhat[i,0] = xhatold[i,0]\n",
    "        self.xhat += self.dt * (self.A @ self.xhat + self.B @ u - self.L @ (self.C@self.xhat  - y))\n",
    "        return tau\n",
    "\n",
    "controller = RobotController(A, B, C, K, L, g_eq)"
   ]
  },
  {
   "cell_type": "markdown",
   "id": "c76a7dea",
   "metadata": {},
   "source": [
    "Run the simulator."
   ]
  },
  {
   "cell_type": "code",
   "execution_count": null,
   "id": "183bad6f",
   "metadata": {},
   "outputs": [],
   "source": [
    "robot = ae353_spacecraft.RobotSimulator(display=True, \n",
    "shootingstar = True, \n",
    "stars = np.array([[alpha1,delta1],[alpha2,delta2],[alpha3,delta3]]), \n",
    "scope_noise=0.1)\n",
    "\n",
    "# Get snapshot as 480 x 480 x 4 numpy array of RGBA values\n",
    "rgba = robot.snapshot()\n",
    "\n",
    "# Display snapshot\n",
    "plt.figure(figsize=(9, 9))\n",
    "plt.imshow(rgba)\n",
    "\n",
    "plt.imsave('my_snapshot.png', rgba)\n",
    "\n",
    "\n",
    "# Restore the simulation to its initial state\n",
    "robot.reset()\n",
    "\n",
    "# Restore the controller to its initial state\n",
    "controller.reset()\n",
    "\n",
    "# Choose how long we want to run the simulation, and\n",
    "# compute the corresponding number of time steps\n",
    "run_time =  30\n",
    "num_steps = int(run_time/robot.dt)\n",
    "\n",
    "# Create a dictionary in which to store results\n",
    "data = {\n",
    "    't': np.empty(num_steps, dtype=float),\n",
    "    'v': np.empty((4, num_steps), dtype=float),\n",
    "    'p': np.empty((2 * len(robot.stars), num_steps), dtype=float),\n",
    "    'tau': np.empty((4, num_steps), dtype=float),\n",
    "    'rpy': np.empty((3, num_steps), dtype=float),\n",
    "    'angvel': np.empty((3, num_steps), dtype=float),\n",
    "    'xhat': np.empty((6, num_steps), dtype=float),\n",
    "}\n",
    "\n",
    "p = np.zeros(2 * 3) #CHANGE this when changing no. of stars\n",
    "v = np.zeros(4)\n",
    "# Run the simulation loop\n",
    "start_time = time.time()\n",
    "for step in range(num_steps):\n",
    "    # Get the current time\n",
    "    t = robot.dt * step\n",
    "    pold = p\n",
    "    vold = v\n",
    "    # Get the sensor measurements\n",
    "    p, v = robot.get_sensor_measurements()\n",
    "    # Ensuring we don't get nan values\n",
    "    for i in range(p.shape[0]):\n",
    "        if np.isnan(p[i]):\n",
    "            p[i] = pold[i]\n",
    "    # Choose the actuator command (by running the controller)\n",
    "    tau = controller.run(p, v)\n",
    "    if tau.shape != (4, ):\n",
    "        raise Exception(f'invalid desired torques: {tau}')\n",
    "    \n",
    "    # Get orientation and angular velocity as ground truth\n",
    "    rpy, angvel = robot.get_rpy_and_angvel()\n",
    "        \n",
    "    # Log the data from this time step\n",
    "    data['t'][step] = t\n",
    "    data['v'][:, step] = v\n",
    "    data['p'][:, step] = p\n",
    "    data['tau'][:, step] = tau\n",
    "    data['rpy'][:, step] = rpy\n",
    "    data['angvel'][:, step] = angvel\n",
    "    data['xhat'][:, step] = controller.xhat.flatten()\n",
    "    \n",
    "    # Send the actuator commands to robot and go forward one time step\n",
    "    robot.set_actuator_commands(tau)\n",
    "    robot.step(t=(start_time + (robot.dt * (step + 1))))\n",
    "    \n",
    "print(f'elapsed time: {time.time() - start_time:.1f}')\n",
    "\n"
   ]
  },
  {
   "cell_type": "markdown",
   "id": "edf85822",
   "metadata": {},
   "source": [
    "Plot the results of the simulation."
   ]
  },
  {
   "cell_type": "code",
   "execution_count": null,
   "id": "29899a2a",
   "metadata": {},
   "outputs": [],
   "source": [
    "# Create a figure with subplots that all share the same x-axis\n",
    "fig, (ax_rpy, ax_tau, ax_v) = plt.subplots(3, 1, figsize=(9, 12), sharex=True)\n",
    "\n",
    "# Roll, pitch, and yaw angles\n",
    "ax_rpy.plot(data['t'], data['rpy'][0, :], label='roll (rad)', linewidth=4)\n",
    "ax_rpy.plot(data['t'], data['rpy'][1, :], label='pitch (rad)', linewidth=4)\n",
    "ax_rpy.plot(data['t'], data['rpy'][2, :], label='yaw (rad)', linewidth=4)\n",
    "ax_rpy.grid()\n",
    "ax_rpy.legend(fontsize=16)\n",
    "ax_rpy.tick_params(labelsize=14)\n",
    "\n",
    "# Wheel torques\n",
    "for i in range(4):\n",
    "    ax_tau.plot(data['t'], data['tau'][i, :], label=f'torque {i} command (N-m)', linewidth=4)\n",
    "ax_tau.plot(data['t'], np.ones_like(data['t']) * robot.tau_max, '--', label='max joint torque', linewidth=4, color='C2')\n",
    "ax_tau.plot(data['t'], -np.ones_like(data['t']) * robot.tau_max, '--', linewidth=4, color='C2')\n",
    "ax_tau.grid()\n",
    "ax_tau.legend(fontsize=16)\n",
    "ax_tau.tick_params(labelsize=14)\n",
    "ax_tau.set_ylim(-1.2 * robot.tau_max, 1.2 * robot.tau_max)\n",
    "\n",
    "# Wheel speeds\n",
    "for i in range(4):\n",
    "    ax_v.plot(data['t'], data['v'][i, :], label=f'wheel {i} speed (rad/s)', linewidth=4)\n",
    "ax_v.plot(data['t'], np.ones_like(data['t']) * robot.v_max, '--', label='max wheel speed', linewidth=4, color='C2')\n",
    "ax_v.plot(data['t'], -np.ones_like(data['t']) * robot.v_max, '--', linewidth=4, color='C2')\n",
    "ax_v.grid()\n",
    "ax_v.legend(fontsize=16)\n",
    "ax_v.tick_params(labelsize=14)\n",
    "ax_v.set_ylim(-1.2 * robot.v_max, 1.2 * robot.v_max)\n",
    "\n",
    "# Set shared x-axis properties\n",
    "ax_v.set_xlabel('time (s)', fontsize=20)\n",
    "ax_v.set_xlim([data['t'][0], data['t'][-1]])\n",
    "\n",
    "# Make the arrangement of subplots look nice\n",
    "fig.tight_layout()"
   ]
  }
 ],
 "metadata": {
  "interpreter": {
   "hash": "d11eb016e6b458203f8b30bb3d0f7aed22292f67e20e2c40b426b86fa7ca171c"
  },
  "kernelspec": {
   "display_name": "Python 3 (ipykernel)",
   "language": "python",
   "name": "python3"
  },
  "language_info": {
   "codemirror_mode": {
    "name": "ipython",
    "version": 3
   },
   "file_extension": ".py",
   "mimetype": "text/x-python",
   "name": "python",
   "nbconvert_exporter": "python",
   "pygments_lexer": "ipython3",
   "version": "3.9.7"
  }
 },
 "nbformat": 4,
 "nbformat_minor": 5
}
