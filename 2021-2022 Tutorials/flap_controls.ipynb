{
 "cells": [
  {
   "cell_type": "markdown",
   "source": [
    "# IREC Roll and Active Drag Controls Algorithm \n",
    "## 1.1 Import some useful packages  "
   ],
   "metadata": {}
  },
  {
   "cell_type": "code",
   "execution_count": 26,
   "source": [
    "import numpy as np\n",
    "import sympy as sym\n",
    "import json\n",
    "import matplotlib.pyplot as plt\n",
    "from scipy import linalg\n",
    "from scipy.interpolate import interp1d\n",
    "from sympy import Matrix"
   ],
   "outputs": [],
   "metadata": {}
  },
  {
   "cell_type": "markdown",
   "source": [
    "## 1.2 Create an LQR Solver for an optimal K matrix\n",
    "**We need to create** a function that solves the linear quadratic regulator (LQR) problem - i.e., that finds the matrix $K$ for which\n",
    "\n",
    "$$u(t) = - K x(t)$$\n",
    "\n",
    "is the optimal solution to\n",
    "\n",
    "$$\n",
    "\\begin{align*}\n",
    "\\underset{u_{[t_{0}, \\infty)}}{\\text{minimize}} &\\qquad \\int_{t_{0}}^{\\infty}\\left( x(t)^{T}Qx(t)+u(t)^{T}Ru(t)\\right)dt \\\\\n",
    "\\text{subject to} &\\qquad \\dot{x}(t) = Ax(t)+Bu(t), \\quad x(t_{0})=x_{0}.\n",
    "\\end{align*}\n",
    "$$"
   ],
   "metadata": {}
  },
  {
   "cell_type": "code",
   "execution_count": 27,
   "source": [
    "def lqr(A, B, Q, R):\n",
    "    P = linalg.solve_continuous_are(A, B, Q, R)\n",
    "    K = linalg.inv(R) @  B.T @ P\n",
    "    return K"
   ],
   "outputs": [],
   "metadata": {}
  },
  {
   "cell_type": "markdown",
   "source": [
    "## 1.3 Create Functions to convert from imperial to metric units"
   ],
   "metadata": {}
  },
  {
   "cell_type": "code",
   "execution_count": 28,
   "source": [
    "def ft_to_m(measurement):\n",
    "    return (measurement / 3.2808) "
   ],
   "outputs": [],
   "metadata": {}
  },
  {
   "cell_type": "markdown",
   "source": [
    "## 2 Derive equations of motion \n",
    "## 2.1 Define some symbolic variables (we could sub any values into them later! Easy)\n",
    "### Example: if x, y, and z are the variabels that we want to turn them into symbolics: do this:\n",
    "$$\n",
    "x, y, z = sym.symbols('x,y,z')\n",
    "$$"
   ],
   "metadata": {}
  },
  {
   "cell_type": "markdown",
   "source": [
    "## Define the states:\n",
    "### Reminder: \n",
    "$$\n",
    "\\dot{x} = Ax + Bu \\\\\n",
    "y = Cx\n",
    "$$\n",
    "### A is the matrix that relates the states to the change of the states \n",
    "### B is the matrix that relates the inputs to the change of the states"
   ],
   "metadata": {}
  },
  {
   "cell_type": "code",
   "execution_count": 29,
   "source": [
    "# defining components of position \n",
    "h, y, z = sym.symbols('h, y, z')\n",
    "\n",
    "# defining roll, pitch and yaw\n",
    "psi, theta, phi  = sym.symbols('psi, theta, phi')\n",
    "\n",
    "# defining the components of the linear velocity \n",
    "u, v, w = sym.symbols('u, v, w')\n",
    "\n",
    "# defining compoenents for angular velocity \n",
    "wx, wy, wz = sym.symbols('wx, wy, wz')"
   ],
   "outputs": [],
   "metadata": {}
  },
  {
   "cell_type": "markdown",
   "source": [
    "## Define inputs of the system (u)"
   ],
   "metadata": {}
  },
  {
   "cell_type": "code",
   "execution_count": 30,
   "source": [
    "l1, l2 = sym.symbols('l1, l2')"
   ],
   "outputs": [],
   "metadata": {}
  },
  {
   "cell_type": "markdown",
   "source": [
    "## Define some constants that we are interested in/that we already have! \n",
    "g: acceleration of gravity, W_f: width of the flaps, Ixx: angular acceleration of the rocket body, Sref_a: aerodynamic reference area of the rocket body, rho: density of air, m: dry mass of the rocket, D: diameter of rocket \n",
    "\n",
    "Cd_a: coefficient of drag of the rocket airframe, Cd_f: coefficient of drag of the flaps, Cl_a: coefficient of lift of the rocket airframe, Cl_f: coefficient of lift of the flaps "
   ],
   "metadata": {}
  },
  {
   "cell_type": "code",
   "execution_count": 31,
   "source": [
    "# defining the physical parameters on the rocket \n",
    "g, W_f, Ixx, Sref_a, rho, m, D = sym.symbols('g, W_f, Ixx, Sref_a, rho, m, D')\n",
    "# defining the coefficients \n",
    "Cd_a, Cd_f, Cl_a, Cl_f = sym.symbols('Cd_a, Cd_f, Cl_a, Cl_f')"
   ],
   "outputs": [],
   "metadata": {}
  },
  {
   "cell_type": "markdown",
   "source": [
    "## 2.2 Create equations of motion! "
   ],
   "metadata": {}
  },
  {
   "cell_type": "markdown",
   "source": [
    "### Velocity \n",
    "$$\\dot{h}$$"
   ],
   "metadata": {}
  },
  {
   "cell_type": "code",
   "execution_count": 32,
   "source": [
    "hdot = u\n",
    "hdot"
   ],
   "outputs": [
    {
     "output_type": "execute_result",
     "data": {
      "text/latex": [
       "$\\displaystyle u$"
      ],
      "text/plain": [
       "u"
      ]
     },
     "metadata": {},
     "execution_count": 32
    }
   ],
   "metadata": {}
  },
  {
   "cell_type": "markdown",
   "source": [
    "### Acceleration \n",
    "$$\\ddot{h} = \\frac{-0.5 \\cdot \\rho \\cdot v^2 \\cdot Cd_a \\cdot S_{refA} - \\rho \\cdot v^2 \\cdot Cd_f \\cdot w(l_1 + l_2)-mg}{m}$$"
   ],
   "metadata": {}
  },
  {
   "cell_type": "code",
   "execution_count": 33,
   "source": [
    "hddot = -((rho * u**2 * Sref_a * Cd_a) / (2*m)) - ((rho * u**2 * Cd_f * W_f * (l1+l2))/m) - g\n",
    "hddot"
   ],
   "outputs": [
    {
     "output_type": "execute_result",
     "data": {
      "text/latex": [
       "$\\displaystyle - \\frac{Cd_{a} Sref_{a} \\rho u^{2}}{2 m} - \\frac{Cd_{f} W_{f} \\rho u^{2} \\left(l_{1} + l_{2}\\right)}{m} - g$"
      ],
      "text/plain": [
       "-Cd_a*Sref_a*rho*u**2/(2*m) - Cd_f*W_f*rho*u**2*(l1 + l2)/m - g"
      ]
     },
     "metadata": {},
     "execution_count": 33
    }
   ],
   "metadata": {}
  },
  {
   "cell_type": "markdown",
   "source": [
    "### Angular Acceleration \n",
    "$$\\dot{\\omega} = \\frac{\\rho v^2 \\cdot Cl_f \\cdot W_f \\cdot (l1D + l1^2 - l2D - l2^2)}{2I_{xx}}$$"
   ],
   "metadata": {}
  },
  {
   "cell_type": "code",
   "execution_count": 34,
   "source": [
    "omegadot = (rho * u**2 * Cl_f * W_f * (l1*D + l1**2 - l2*D - l2**2)) / (2*Ixx)\n",
    "omegadot"
   ],
   "outputs": [
    {
     "output_type": "execute_result",
     "data": {
      "text/latex": [
       "$\\displaystyle \\frac{Cl_{f} W_{f} \\rho u^{2} \\left(D l_{1} - D l_{2} + l_{1}^{2} - l_{2}^{2}\\right)}{2 Ixx}$"
      ],
      "text/plain": [
       "Cl_f*W_f*rho*u**2*(D*l1 - D*l2 + l1**2 - l2**2)/(2*Ixx)"
      ]
     },
     "metadata": {},
     "execution_count": 34
    }
   ],
   "metadata": {}
  },
  {
   "cell_type": "markdown",
   "source": [
    "### Create a systems of equation complier that outputs a column matrix with size 3 by 1\n",
    "$$f_{sym}$$\n",
    "use this following code to create a column matrix of the three EOMs\n",
    "$$f_{sym} = sym.Matrix.vstack$$"
   ],
   "metadata": {}
  },
  {
   "cell_type": "code",
   "execution_count": 35,
   "source": [
    "f_sym = Matrix.vstack(Matrix([[hdot],[hddot],[omegadot]]))\n",
    "f_sym"
   ],
   "outputs": [
    {
     "output_type": "execute_result",
     "data": {
      "text/latex": [
       "$\\displaystyle \\left[\\begin{matrix}u\\\\- \\frac{Cd_{a} Sref_{a} \\rho u^{2}}{2 m} - \\frac{Cd_{f} W_{f} \\rho u^{2} \\left(l_{1} + l_{2}\\right)}{m} - g\\\\\\frac{Cl_{f} W_{f} \\rho u^{2} \\left(D l_{1} - D l_{2} + l_{1}^{2} - l_{2}^{2}\\right)}{2 Ixx}\\end{matrix}\\right]$"
      ],
      "text/plain": [
       "Matrix([\n",
       "[                                                              u],\n",
       "[-Cd_a*Sref_a*rho*u**2/(2*m) - Cd_f*W_f*rho*u**2*(l1 + l2)/m - g],\n",
       "[        Cl_f*W_f*rho*u**2*(D*l1 - D*l2 + l1**2 - l2**2)/(2*Ixx)]])"
      ]
     },
     "metadata": {},
     "execution_count": 35
    }
   ],
   "metadata": {}
  },
  {
   "cell_type": "markdown",
   "source": [
    "## 3 Derive the state-space model \n",
    "$$\\dot{x} = Ax + Bu$$\n",
    "### Time to derive the A and B matrices!! But first, we need to define the equilibrium points, remember we need to sub them into the symbolic A, B, and C matrices to obtain a CONSTANT matrices. "
   ],
   "metadata": {}
  },
  {
   "cell_type": "markdown",
   "source": [
    "## 3.1\n",
    "### Think about equilibrium. Where is a good equilibrium position for THIS launch? The official definition of the equilibrium point is: \n",
    "An equilibrium point of the nonlinear system is a choice of states $s_\\text{eq}$ and inputs $i_\\text{eq}$ - along with constant parameters $p_\\text{eq}$ - for which\n",
    "\n",
    "$$0 = f(s_\\text{eq}, i_\\text{eq}, p_\\text{eq}).$$"
   ],
   "metadata": {}
  },
  {
   "cell_type": "markdown",
   "source": [
    "### We need to put down two sets of equilibrium values:\n",
    "$$x_{eq}$$\n",
    "and \n",
    "$$u_{eq}$$\n",
    "First is the equilibrium for the state x: \n",
    " equilibrium state for us is when the rocket is at apogee where $$\\dot{h} = v = 0 m/s$$\n",
    "$$\\ddot{h} = a = -9.8 \\frac{m}{s^2}$$\n",
    "$$h = 3000$$"
   ],
   "metadata": {}
  },
  {
   "cell_type": "markdown",
   "source": [
    "### Let's go ahead and create two lists: list \"s\", list \"i\", and list \"p\", they contain respectively, the symbolics of the states, and input as defined in Section 1, and some constants"
   ],
   "metadata": {}
  },
  {
   "cell_type": "markdown",
   "source": [
    "### Defining x"
   ],
   "metadata": {}
  },
  {
   "cell_type": "code",
   "execution_count": 36,
   "source": [
    "s = [h, hdot, wx]"
   ],
   "outputs": [],
   "metadata": {}
  },
  {
   "cell_type": "markdown",
   "source": [
    "### Defining u"
   ],
   "metadata": {}
  },
  {
   "cell_type": "code",
   "execution_count": 37,
   "source": [
    "i = [l1, l2]"
   ],
   "outputs": [],
   "metadata": {}
  },
  {
   "cell_type": "markdown",
   "source": [
    "### Defining a set of parameters/constants in that appear in the f_sym equation"
   ],
   "metadata": {}
  },
  {
   "cell_type": "code",
   "execution_count": 38,
   "source": [
    "p = [Cd_f, Sref_a,Cd_a,rho, W_f, m, g, Cl_f, Ixx, D]"
   ],
   "outputs": [],
   "metadata": {}
  },
  {
   "cell_type": "markdown",
   "source": [
    "### Time to create a function that allows you to sub in the equilibrium values of the states into those symbolic values to obtain a constant state after taking the Jacobian of the matrix\n",
    "$$\n",
    "f = sym.lambdify(x + u, f_{sym})\n",
    "$$"
   ],
   "metadata": {}
  },
  {
   "cell_type": "code",
   "execution_count": 39,
   "source": [
    "f = sym.lambdify(s + i + p, f_sym)"
   ],
   "outputs": [],
   "metadata": {}
  },
  {
   "cell_type": "markdown",
   "source": [
    "### Now we put in the constants that we know, allll the constants\n",
    "### Good thing is we already pre-defined those constants symbolically, so remember to use those 'specific' values!"
   ],
   "metadata": {}
  },
  {
   "cell_type": "code",
   "execution_count": 40,
   "source": [
    "# Mass of the rocket\n",
    "m = 50 #kg\n",
    "\n",
    "# moment of inertia\n",
    "Ixx = 0.5*m*0.1524**2\n",
    "\n",
    "# acceleration of gravity\n",
    "g = 9.81 #m/s^2\n",
    "\n",
    "#  lift coefficient of the rocket \n",
    "Cl_a = 0.063\n",
    "\n",
    "# lift coefficient of the flaps \n",
    "Cl_f = 2*np.pi*np.sin(45)\n",
    "\n",
    "# drag coefficient of the rocket \n",
    "Cd_a = 0.58\n",
    "\n",
    "# drag coefficient of the flaps\n",
    "Cd_f = 2*np.pi*np.sin(45)\n",
    "\n",
    "# Width of the flaps \n",
    "W_f = 0.0254 # meters\n",
    "\n",
    "# Diameter of the rocket \n",
    "D = 0.1524 # meters\n",
    "\n",
    "# reference area of the rocket \n",
    "Sref_a = np.pi*(D/2)**2\n",
    "\n",
    "# Density of air \n",
    "rho = 1.225 # kg/m^3\n"
   ],
   "outputs": [],
   "metadata": {}
  },
  {
   "cell_type": "markdown",
   "source": [
    "### Time to use the same 's' and 'u' matrices we have defined above and sub in our desired equilibrium values, lots of zerossss"
   ],
   "metadata": {}
  },
  {
   "cell_type": "markdown",
   "source": [
    "### We need to test sub in those values into the f using\r\n",
    "$$\r\n",
    "f(*s,*i,*p)\r\n",
    "$$\r\n",
    "print them out to see if that's what you wanted "
   ],
   "metadata": {}
  },
  {
   "cell_type": "code",
   "execution_count": 41,
   "source": [
    "#Define Equilibrium Values for the States and Inputs\n",
    "#* FIXME\n",
    "h_e = ft_to_m(3000)\n",
    "hdot_e = 1\n",
    "omega_e = 0\n",
    "l1_e = 0\n",
    "l2_e = 0\n",
    "#Create lists of equilibrium states, inputs, parameters\n",
    "s_eq = [h_e,hdot_e,omega_e]\n",
    "i_eq = [l1_e,l2_e]\n",
    "p_eq = [Cd_f,Sref_a,Cd_a,rho,W_f,m,g,Cl_f,Ixx,D]\n",
    "\n",
    "#* Sub in the values using the f() function\n",
    "f(*s_eq,*i_eq,*p_eq)"
   ],
   "outputs": [
    {
     "output_type": "execute_result",
     "data": {
      "text/plain": [
       "array([[ 1.        ],\n",
       "       [-9.81012961],\n",
       "       [ 0.        ]])"
      ]
     },
     "metadata": {},
     "execution_count": 41
    }
   ],
   "metadata": {}
  },
  {
   "cell_type": "markdown",
   "source": [
    "## 3.2 Computing A and B \n",
    "### We are finally at where we want, using jacobian, and sub in values to find a constant A and B matrix!"
   ],
   "metadata": {}
  },
  {
   "cell_type": "markdown",
   "source": [
    "We want to find\n",
    "\n",
    "$$\n",
    "A = \\frac{\\partial f}{\\partial s}\\biggr\\vert_{(s, i, p) = (s_\\text{eq}, i_\\text{eq}, p_\\text{eq})}\n",
    "\\qquad\\text{and}\\qquad\n",
    "B = \\frac{\\partial f}{\\partial i}\\biggr\\vert_{(s, i, p) = (s_\\text{eq}, i_\\text{eq}, p_\\text{eq})}.\n",
    "$$\n",
    "\n",
    "First, we compute each Jacobian (i.e., each matrix of partial derivatives) in symbolic form."
   ],
   "metadata": {}
  },
  {
   "cell_type": "markdown",
   "source": [
    "### Define A_sym and B_sym, the drill is very similar to how we defined the f_sym and f. You will see the similarity. The code goes like this \n",
    "$$\n",
    "A_{sym} = f_{sym}.jacobian(s) \\\\\n",
    "B_{sym} = f_{sym}.jacobian(i)\n",
    "$$"
   ],
   "metadata": {}
  },
  {
   "cell_type": "code",
   "execution_count": 42,
   "source": [
    "A_sym = f_sym.jacobian(s)\n",
    "B_sym = f_sym.jacobian(i)"
   ],
   "outputs": [],
   "metadata": {}
  },
  {
   "cell_type": "markdown",
   "source": [
    "### Again, remember the lambdify function? \n",
    "### It allows us to substitute values into those pre-defined symbolic expressions. At this moment, the A_sym and B_sym are still symbolic after the jacobian. "
   ],
   "metadata": {}
  },
  {
   "cell_type": "code",
   "execution_count": 43,
   "source": [
    "A_num = sym.lambdify(s + i + p, A_sym)\n",
    "B_num = sym.lambdify(s + i + p, B_sym)"
   ],
   "outputs": [],
   "metadata": {}
  },
  {
   "cell_type": "markdown",
   "source": [
    "### Time to sub in the equilibrium values! Refer back to how we sub in the values into the 'f' function in the last section to write out this section"
   ],
   "metadata": {}
  },
  {
   "cell_type": "code",
   "execution_count": 44,
   "source": [
    "A = A_num(*s_eq, *i_eq, *p_eq)\n",
    "B = B_num(*s_eq, *i_eq, *p_eq)"
   ],
   "outputs": [],
   "metadata": {}
  },
  {
   "cell_type": "markdown",
   "source": [
    "### Show the A and B matrices in a nice looking way using this: "
   ],
   "metadata": {}
  },
  {
   "cell_type": "code",
   "execution_count": 45,
   "source": [
    "A_str = np.array2string(A,\n",
    "                        formatter={'float_kind': lambda x: f'{x:5.2f}'},\n",
    "                        prefix='    ',\n",
    "                        max_line_width=np.inf)\n",
    "print(f'A = {A_str}')"
   ],
   "outputs": [
    {
     "output_type": "stream",
     "name": "stdout",
     "text": [
      "A = [[ 0.00  1.00  0.00]\n",
      "     [ 0.00 -0.00  0.00]\n",
      "     [ 0.00  0.00  0.00]]\n"
     ]
    }
   ],
   "metadata": {}
  },
  {
   "cell_type": "code",
   "execution_count": 46,
   "source": [
    "B_str = np.array2string(B,\n",
    "                        formatter={'float_kind': lambda x: f'{x:10.2f}'},\n",
    "                        prefix='    ',\n",
    "                        max_line_width=np.inf)\n",
    "\n",
    "print(f'B = {B_str}')"
   ],
   "outputs": [
    {
     "output_type": "stream",
     "name": "stdout",
     "text": [
      "B = [[      0.00       0.00]\n",
      "     [     -0.00      -0.00]\n",
      "     [      0.02      -0.02]]\n"
     ]
    }
   ],
   "metadata": {}
  },
  {
   "cell_type": "markdown",
   "source": [
    "The state-space system is described by\n",
    "\n",
    "$$ \\dot{x} = Ax + Bu $$\n",
    "\n",
    "where\n",
    "\n",
    "$$ x = s - s_\\text{eq} $$\n",
    "\n",
    "and\n",
    "\n",
    "$$ u = i - i_\\text{eq}. $$"
   ],
   "metadata": {}
  },
  {
   "cell_type": "markdown",
   "source": [
    "## 4 Design a controller (Reference tracking and LQR design)"
   ],
   "metadata": {}
  },
  {
   "cell_type": "markdown",
   "source": [
    "### 4.1 Controller Design \n",
    "For your controller, this is the state-feedback form:\n",
    "\n",
    "$$u = - K (x - x_\\text{des})$$\n",
    "\n",
    "where the gain matrix $K$ is chosen by solving an infinite-horizon LQR problem (e.g., with the helper function `lqr`) and where\n",
    "\n",
    "$$x_\\text{des} = \\begin{bmatrix} o_{h, \\text{des}} \\\\ o_{\\dot{h}, \\text{des}} \\\\ o_{\\ddot{h}, \\text{des}} \\end{bmatrix}.$$\n",
    "\n",
    "Remember that the LQR problem is defined by the choice of weights $Q$ and $R$. Both must be square matrices. Both $Q$ and $R$ are almost always chosen to be diagonal. Remember that $Q$ penalizes non-zero states (i.e., non-zero values of $x$) and that $R$ penalizes non-zero inputs (i.e., non-zero values of $u$). If you want smaller states, increase $Q$. If you want smaller inputs, increase $R$.\n",
    "\n",
    "\n",
    "Hint: Use np.diag() to create those two diagonal matrices "
   ],
   "metadata": {}
  },
  {
   "cell_type": "code",
   "execution_count": 47,
   "source": [
    "## Designing a Q matrix \n",
    "Q = np.diag([2.86, 1, 1])\n",
    "\n",
    "## Designing a R matrix\n",
    "R = np.diag([1, 1])\n"
   ],
   "outputs": [],
   "metadata": {}
  },
  {
   "cell_type": "markdown",
   "source": [
    "### Calculate the K matrix using the lqr function we have defined! "
   ],
   "metadata": {}
  },
  {
   "cell_type": "code",
   "execution_count": 48,
   "source": [
    "K = lqr(A,B,Q,R)"
   ],
   "outputs": [],
   "metadata": {}
  },
  {
   "cell_type": "markdown",
   "source": [
    "### Show a nicely formatted K matrix: "
   ],
   "metadata": {}
  },
  {
   "cell_type": "code",
   "execution_count": 49,
   "source": [
    "K_str = np.array2string(K,\n",
    "                        formatter={'float_kind': lambda x: f'{x:6.3f}'},\n",
    "                        prefix='    ',\n",
    "                        max_line_width=np.inf)\n",
    "\n",
    "print(f'K = {K_str}')"
   ],
   "outputs": [
    {
     "output_type": "stream",
     "name": "stdout",
     "text": [
      "K = [[-1.196 -18.933  0.707]\n",
      "     [-1.196 -18.933 -0.707]]\n"
     ]
    }
   ],
   "metadata": {}
  },
  {
   "cell_type": "markdown",
   "source": [
    "## Controller Testing\r\n",
    "\r\n"
   ],
   "metadata": {}
  },
  {
   "cell_type": "code",
   "execution_count": 50,
   "source": [
    "#State Space Equation for Controller\n",
    "#xdot = Ax + Bu, u = -Kx\n",
    "#xdot = (A - BK)x\n",
    "\n",
    "from scipy import integrate\n",
    "\n",
    "tspan = np.linspace(0,25,num=1000) #from 0 -> 25 seconds\n",
    "xinit = [727.65,491.29,0.1] #altitude, velcity at burnout and random starting roll rate\n",
    "\n",
    "def state_space_func(t,x,Amat,Bmat,Kmat):\n",
    "    xdot = (Amat - Bmat@Kmat) @ x\n",
    "    return xdot\n",
    "\n",
    "sol = integrate.solve_ivp(state_space_func,[tspan[0], tspan[-1]], xinit, t_eval=tspan, rtol = 1e-5,args=(A,B,K))\n",
    "\n",
    "plt.plot(sol.t,sol.y[0]) #alt\n",
    "plt.plot(sol.t,sol.y[1]) #vertical velocity\n",
    "plt.show()\n",
    "plt.plot(sol.t,sol.y[2]) #roll rate\n",
    "plt.show()\n",
    "print(max(sol.y[0]))"
   ],
   "outputs": [
    {
     "output_type": "display_data",
     "data": {
      "image/png": "[encoded data removed]",
      "text/plain": [
       "<Figure size 432x288 with 1 Axes>"
      ]
     },
     "metadata": {
      "needs_background": "light"
     }
    },
    {
     "output_type": "display_data",
     "data": {
      "image/png": "[encoded data removed]",
      "text/plain": [
       "<Figure size 432x288 with 1 Axes>"
      ]
     },
     "metadata": {
      "needs_background": "light"
     }
    },
    {
     "output_type": "stream",
     "name": "stdout",
     "text": [
      "3000.0126427390614\n"
     ]
    }
   ],
   "metadata": {}
  },
  {
   "cell_type": "code",
   "execution_count": null,
   "source": [],
   "outputs": [],
   "metadata": {}
  }
 ],
 "metadata": {
  "orig_nbformat": 4,
  "language_info": {
   "name": "python",
   "version": "3.9.1",
   "mimetype": "text/x-python",
   "codemirror_mode": {
    "name": "ipython",
    "version": 3
   },
   "pygments_lexer": "ipython3",
   "nbconvert_exporter": "python",
   "file_extension": ".py"
  },
  "kernelspec": {
   "name": "python3",
   "display_name": "Python 3.9.1 64-bit"
  },
  "interpreter": {
   "hash": "aee8b7b246df8f9039afb4144a1f6fd8d2ca17a180786b69acc140d282b71a49"
  }
 },
 "nbformat": 4,
 "nbformat_minor": 2
}